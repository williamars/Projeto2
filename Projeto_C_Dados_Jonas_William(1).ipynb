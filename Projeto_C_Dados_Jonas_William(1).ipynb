{
 "cells": [
  {
   "cell_type": "markdown",
   "metadata": {},
   "source": [
    "# Projeto 2 - Ciência dos Dados"
   ]
  },
  {
   "cell_type": "markdown",
   "metadata": {},
   "source": [
    "##### Faculdade: Insper - Instituto de Ensino e Pesquisa"
   ]
  },
  {
   "cell_type": "markdown",
   "metadata": {},
   "source": [
    "**Nome**: Jonas da Silva Lopes\n",
    "\n",
    "**Nome**: William Augusto Reis da Silva\n",
    "\n",
    "**Turma**: Engenharia | 2A"
   ]
  },
  {
   "cell_type": "markdown",
   "metadata": {},
   "source": [
    "\n",
    "# Classificador automático de sentimento"
   ]
  },
  {
   "cell_type": "markdown",
   "metadata": {},
   "source": [
    "Este projeto consiste na análise de dados de tweets, por meio da biblioteca tweepy, para realizar um classificador de sentimento, demonstrando se um tweety é relevante ou irrelevante. Para isso, realizamos algumas funções para que possamos determinar esta análise."
   ]
  },
  {
   "cell_type": "markdown",
   "metadata": {},
   "source": [
    "## Preparando o ambiente no jupyter:"
   ]
  },
  {
   "cell_type": "markdown",
   "metadata": {},
   "source": [
    "Importando e instalando as bibliotecas"
   ]
  },
  {
   "cell_type": "code",
   "execution_count": 1,
   "metadata": {},
   "outputs": [],
   "source": [
    "%%capture\n",
    "!pip install tweepy\n",
    "!pip install emoji"
   ]
  },
  {
   "cell_type": "code",
   "execution_count": 2,
   "metadata": {
    "jupyter": {
     "outputs_hidden": true
    }
   },
   "outputs": [],
   "source": [
    "import tweepy\n",
    "import emoji\n",
    "import math\n",
    "import os.path\n",
    "import pandas as pd\n",
    "import json\n",
    "import re \n",
    "import functools\n",
    "import operator\n",
    "from random import shuffle"
   ]
  },
  {
   "cell_type": "markdown",
   "metadata": {},
   "source": [
    "___\n",
    "## Autenticando no  Twitter\n",
    "\n",
    "* Conta utilizada: ***@William48253649***"
   ]
  },
  {
   "cell_type": "code",
   "execution_count": 3,
   "metadata": {
    "jupyter": {
     "outputs_hidden": true
    }
   },
   "outputs": [],
   "source": [
    "# Identificador da conta no twitter: @William48253649\n",
    "\n",
    "# Leitura do arquivo no formato JSON\n",
    "with open('auth.pass') as fp:    \n",
    "    data = json.load(fp)\n",
    "\n",
    "# Configurando a biblioteca\n",
    "auth = tweepy.OAuthHandler(data['consumer_key'], data['consumer_secret'])\n",
    "auth.set_access_token(data['access_token'], data['access_token_secret'])"
   ]
  },
  {
   "cell_type": "markdown",
   "metadata": {},
   "source": [
    "___\n",
    "## Etapas do projeto:"
   ]
  },
  {
   "cell_type": "markdown",
   "metadata": {},
   "source": [
    "### Escolha de um produto e coleta das mensagens\n"
   ]
  },
  {
   "cell_type": "markdown",
   "metadata": {},
   "source": [
    "O produto escolhido para a análise será a empresa Nubank, tendo em vista que é uma empresa em alta e que possui, possivelmente, diversas opiniões no Twitter"
   ]
  },
  {
   "cell_type": "code",
   "execution_count": 6,
   "metadata": {
    "jupyter": {
     "outputs_hidden": true
    }
   },
   "outputs": [],
   "source": [
    "#Produto escolhido\n",
    "produto = 'Nubank'\n",
    "\n",
    "#Quantidade mínima de mensagens capturadas\n",
    "n = 500\n",
    "#Quantidade mínima de mensagens para a base de treinamento\n",
    "t = 300\n",
    "\n",
    "#Filtro de língua\n",
    "lang = 'pt'"
   ]
  },
  {
   "cell_type": "markdown",
   "metadata": {},
   "source": [
    "Capturando os dados do twitter:"
   ]
  },
  {
   "cell_type": "code",
   "execution_count": 7,
   "metadata": {
    "jupyter": {
     "outputs_hidden": true
    }
   },
   "outputs": [],
   "source": [
    "# Cria um objeto para a captura\n",
    "api = tweepy.API(auth)\n",
    "\n",
    "# Inicia a captura\n",
    "i = 1\n",
    "msgs = []\n",
    "for msg in tweepy.Cursor(api.search, q=produto, lang=lang, tweet_mode=\"extended\").items():    \n",
    "    msgs.append(msg.full_text.lower()) # Lower para deixar tudo minúsculo e facilitar a comparação\n",
    "    i += 1\n",
    "    if i > n:\n",
    "        break\n",
    "\n",
    "# Embaralhando as mensagens para reduzir um possível viés\n",
    "shuffle(msgs)"
   ]
  },
  {
   "cell_type": "markdown",
   "metadata": {},
   "source": [
    "Salvando os dados em uma planilha Excel:"
   ]
  },
  {
   "cell_type": "code",
   "execution_count": 8,
   "metadata": {
    "jupyter": {
     "outputs_hidden": true
    }
   },
   "outputs": [],
   "source": [
    "# Verifica se o arquivo não existe para não substituir um conjunto pronto\n",
    "if not os.path.isfile('./{0}.xlsx'.format(produto)):\n",
    "    \n",
    "    # Abre o arquivo para escrita\n",
    "    writer = pd.ExcelWriter('{0}.xlsx'.format(produto))\n",
    "\n",
    "    # Divide o conjunto de mensagens em duas planilhas\n",
    "    # Planilha de treinamento\n",
    "    dft = pd.DataFrame({'Treinamento' : pd.Series(msgs[:t])}).set()\n",
    "    dft.to_excel(excel_writer = writer, sheet_name = 'Treinamento', index = False)\n",
    "\n",
    "    # Planilha de teste\n",
    "    dfc = pd.DataFrame({'Teste' : pd.Series(msgs[t:])}).set()\n",
    "    dfc.to_excel(excel_writer = writer, sheet_name = 'Teste', index = False)\n",
    "\n",
    "    # Fecha o arquivo\n",
    "    writer.save()"
   ]
  },
  {
   "cell_type": "markdown",
   "metadata": {},
   "source": [
    "___\n",
    "### Classificando as mensagens na coragem\n",
    "\n",
    "Após realizar a classificação manual das mensagens, como irrelevante (0) ou relevante (1), partimos para  a mudança desses valores para algo mais palpável para a análise. Com isso, fazemos a alteração que pode ser vista abaixo."
   ]
  },
  {
   "cell_type": "markdown",
   "metadata": {},
   "source": [
    "Mas, para realizar isso, primeiro foi necessário determinar critérios para a classificação:\n",
    "\n",
    "- Mencionar o produto;\n",
    "- A menção ao produto deve ser acompanhada de uma opinião;\n",
    "- A opinião pode ser demonstrada na forma de indagações, reclamações, pode envolver sarcasmo, elogios e sugestões sobre serviços;\n",
    "- A opinião afirmada deve ser clara;\n",
    "- Emoctions também representam opiniões."
   ]
  },
  {
   "cell_type": "code",
   "execution_count": 163,
   "metadata": {
    "scrolled": true
   },
   "outputs": [
    {
     "name": "stdout",
     "output_type": "stream",
     "text": [
      "A quantidade de cada cada um é: \n",
      "\n",
      " Irrelevante    184\n",
      "Relevante      116\n",
      "Name: Relevância, dtype: int64\n"
     ]
    }
   ],
   "source": [
    "# Lendo o arquivo Nubank\n",
    "mensagens = pd.read_excel(\"Nubank.xlsx\")\n",
    "mensagens.Relevância = mensagens.Relevância.astype('category')\n",
    "mensagens.Relevância.cat.categories = ('Irrelevante', 'Relevante')\n",
    "\n",
    "# Separando em relevante e irrelevante\n",
    "relevante = mensagens[mensagens.Relevância==\"Relevante\"]\n",
    "irrelevante = mensagens[mensagens.Relevância==\"Irrelevante\"]\n",
    "\n",
    "# Soma da quantidade de palavras\n",
    "total = len(relevante) + len(irrelevante)\n",
    "\n",
    "print(\"A quantidade de cada cada um é: \\n\\n\", mensagens.Relevância.value_counts())"
   ]
  },
  {
   "cell_type": "code",
   "execution_count": 10,
   "metadata": {},
   "outputs": [
    {
     "name": "stdout",
     "output_type": "stream",
     "text": [
      "A probabilidade de ser relevante é 38.666666666666664 %\n",
      "A probabilidade de ser irrelevante é 61.33333333333333 %\n"
     ]
    }
   ],
   "source": [
    "'''A Partir dos dados obtidos, nota-se que:\n",
    "        p(relevante) = 116/300\n",
    "        p(irrelevante) = 184/300\n",
    "'''\n",
    "p_relev = 116/300*100\n",
    "print(\"A probabilidade de ser relevante é\", p_relev, \"%\")\n",
    "\n",
    "p_irrelev = 184/300*100\n",
    "print(\"A probabilidade de ser irrelevante é\", p_irrelev, \"%\")"
   ]
  },
  {
   "cell_type": "markdown",
   "metadata": {},
   "source": [
    "#### Limpeza das mensagens"
   ]
  },
  {
   "cell_type": "code",
   "execution_count": 11,
   "metadata": {
    "scrolled": true
   },
   "outputs": [],
   "source": [
    "''' Função que troca pontuação por espaço '''\n",
    "def cleanup(text):\n",
    "    punctuation = '[!\\-.:?;/,|@\"\\'()]'\n",
    "    pattern = re.compile(punctuation)\n",
    "    # Abaixo, determina que se troca por espaço\n",
    "    text_subbed = re.sub(pattern, ' ', text)\n",
    "    \n",
    "    emoji_dividir = emoji.get_emoji_regexp().split(text_subbed)\n",
    "    espaco_dividir = [substr.split() for substr in emoji_dividir]\n",
    "    split = functools.reduce(operator.concat, espaco_dividir)\n",
    "    \n",
    "    return split\n",
    "\n",
    "# Usando a função apply para fazer a limpeza nas mensagens\n",
    "nubank_relev = relevante.Treinamento.apply(cleanup)\n",
    "nubank_irrelev = irrelevante.Treinamento.apply(cleanup)\n",
    "\n",
    "# Pegando as palavras da lista para contar\n",
    "def pega_text(texto):\n",
    "    # Pega as palavras para colocar numa lista\n",
    "    lista = []\n",
    "    i = 0\n",
    "    for linha in texto:\n",
    "        if len(linha) > 1:\n",
    "            while i < len(linha):\n",
    "                lista.append(linha[i])\n",
    "                i += 1  \n",
    "            i = 0\n",
    "        elif len(linha) != 1 and (len(linha)-1) != 1:\n",
    "            a = texto\n",
    "            return a \n",
    "    return lista # Retorna a lista com as palavras separadas"
   ]
  },
  {
   "cell_type": "markdown",
   "metadata": {},
   "source": [
    "### Frequência Absoluta"
   ]
  },
  {
   "cell_type": "markdown",
   "metadata": {},
   "source": [
    "Abaixo, temos a análise das frequências das palavras, sendo relevantes e irrelevantes, mostrando as que mais aparecem."
   ]
  },
  {
   "cell_type": "markdown",
   "metadata": {},
   "source": [
    "##### Relevantes"
   ]
  },
  {
   "cell_type": "code",
   "execution_count": 171,
   "metadata": {
    "scrolled": true
   },
   "outputs": [
    {
     "data": {
      "text/plain": [
       "nubank    122\n",
       "o          58\n",
       "de         54\n",
       "e          52\n",
       "eu         47\n",
       "Name: 0, dtype: int64"
      ]
     },
     "execution_count": 171,
     "metadata": {},
     "output_type": "execute_result"
    }
   ],
   "source": [
    "# Frequência dos Relevantes\n",
    "lista_nubank_relev = pd.DataFrame(pega_text(nubank_relev))\n",
    "\n",
    "lista_nubank_relev[0].value_counts().head()"
   ]
  },
  {
   "cell_type": "markdown",
   "metadata": {},
   "source": [
    "##### Irrelevantes"
   ]
  },
  {
   "cell_type": "code",
   "execution_count": 170,
   "metadata": {
    "scrolled": true
   },
   "outputs": [
    {
     "data": {
      "text/plain": [
       "nubank    154\n",
       "o          71\n",
       "de         67\n",
       "e          62\n",
       "que        60\n",
       "Name: 0, dtype: int64"
      ]
     },
     "execution_count": 170,
     "metadata": {},
     "output_type": "execute_result"
    }
   ],
   "source": [
    "# Frequência dos Irrelevantes\n",
    "lista_nubank_irrelev = pd.DataFrame(pega_text(nubank_irrelev))\n",
    "\n",
    "lista_nubank_irrelev[0].value_counts().head()"
   ]
  },
  {
   "cell_type": "markdown",
   "metadata": {},
   "source": [
    "### Frequência Relativa"
   ]
  },
  {
   "cell_type": "markdown",
   "metadata": {},
   "source": [
    "##### Relevante"
   ]
  },
  {
   "cell_type": "code",
   "execution_count": 168,
   "metadata": {
    "scrolled": true
   },
   "outputs": [
    {
     "data": {
      "text/plain": [
       "nubank    0.056092\n",
       "o         0.026667\n",
       "de        0.024828\n",
       "e         0.023908\n",
       "eu        0.021609\n",
       "Name: 0, dtype: float64"
      ]
     },
     "execution_count": 168,
     "metadata": {},
     "output_type": "execute_result"
    }
   ],
   "source": [
    "lista_nubank_relev[0].value_counts(True).head()"
   ]
  },
  {
   "cell_type": "markdown",
   "metadata": {},
   "source": [
    "##### Irrelevante"
   ]
  },
  {
   "cell_type": "code",
   "execution_count": 169,
   "metadata": {
    "scrolled": true
   },
   "outputs": [
    {
     "data": {
      "text/plain": [
       "nubank    0.045441\n",
       "o         0.020950\n",
       "de        0.019770\n",
       "e         0.018294\n",
       "que       0.017704\n",
       "Name: 0, dtype: float64"
      ]
     },
     "execution_count": 169,
     "metadata": {},
     "output_type": "execute_result"
    }
   ],
   "source": [
    "lista_nubank_irrelev[0].value_counts(True).head()"
   ]
  },
  {
   "cell_type": "markdown",
   "metadata": {},
   "source": [
    "___\n",
    "### Montando o Classificador Naive-Bayes\n",
    "\n",
    "Considerando apenas as mensagens da planilha Treinamento, estamos ensinando nosso treinador a identificar as probabilidades, para posteriormente fazer a identificação e a leitura. "
   ]
  },
  {
   "cell_type": "markdown",
   "metadata": {},
   "source": [
    "#### Relevantes"
   ]
  },
  {
   "cell_type": "code",
   "execution_count": 177,
   "metadata": {},
   "outputs": [],
   "source": [
    "'''Fazendo dicionários, para serem utilizados com objetivos na função'''\n",
    "\n",
    "# Limpa uma das linhas da mensagem\n",
    "linhas_mens = mensagens.Treinamento.apply(cleanup)[0]\n",
    "\n",
    "# Dicionário que guarda, dos relevantes, as palavras e quantas vezes apareceu\n",
    "lista_counts_relevante = (lista_nubank_relev[0].value_counts()).to_dict()\n",
    "\n",
    "# Dicionário que guarda a quantidade de relevantes e irrelevantes\n",
    "dicionario_counts_relevancia = (mensagens.Relevância.value_counts()).to_dict()"
   ]
  },
  {
   "cell_type": "markdown",
   "metadata": {},
   "source": [
    "Abaixo, temos a função que será usada para o cálculo da frase de ser relevante"
   ]
  },
  {
   "cell_type": "code",
   "execution_count": 178,
   "metadata": {},
   "outputs": [],
   "source": [
    "# Função que calcula as probabilidade de ser relevante\n",
    "def probabilidade_do_naive(lista_counts_relevante, dicionario_counts_relevancia, total, linhas_mens, lista_nubank_relev):\n",
    "    verossimilhança = 1\n",
    "    for word in linhas_mens:\n",
    "        for key, values in lista_counts_relevante.items():\n",
    "            if key == word:\n",
    "                verossimilhança *= (values+1)/(len(lista_nubank_relev)+len(linhas_mens))\n",
    "    \n",
    "    for rel, v in dicionario_counts_relevancia.items():\n",
    "        if rel == \"Relevante\":\n",
    "            total_rel = v\n",
    "    priori = total_rel/total\n",
    "    \n",
    "    return (('{0:.2f}').format(math.log10(verossimilhança * priori)))\n",
    "\n",
    "#print(probabilidade_do_naive(lista_counts_relevante, dicionario_counts_relevancia, total, linhas_mens, lista_nubank_relev))"
   ]
  },
  {
   "cell_type": "markdown",
   "metadata": {},
   "source": [
    "#### Irrelevantes"
   ]
  },
  {
   "cell_type": "markdown",
   "metadata": {},
   "source": [
    "Abaixo, a função que calcula a probabilidade de ser irrelevante"
   ]
  },
  {
   "cell_type": "code",
   "execution_count": 179,
   "metadata": {},
   "outputs": [],
   "source": [
    "# Dicionário que guarda, dos irrelevantes, as palavras e quantas vezes apareceu\n",
    "lista_counts_irrelevante = (lista_nubank_irrelev[0].value_counts()).to_dict()\n",
    "\n",
    "# Função que calcula as probabilidade de ser irrelevante\n",
    "def probabilidade_do_naive_irr(lista_counts_irrelevante, dicionario_counts_relevancia, total, linhas_mens, lista_nubank_irrelev):\n",
    "    verossimilhança = 1\n",
    "    # Identificando a quantidade e calculando a probabilidade de cada palavra do tweet\n",
    "    for word in linhas_mens:\n",
    "        for key, values in lista_counts_irrelevante.items():\n",
    "            if key == word:\n",
    "                verossimilhança *= (values+1) / (len(lista_nubank_irrelev)+len(linhas_mens))\n",
    "    \n",
    "    # Pegando a probabilidade e dividindo pelo total, usando Naive Bayes\n",
    "    for rel, v in dicionario_counts_relevancia.items():\n",
    "        if rel == \"Irrelevante\":\n",
    "            total_rel = v\n",
    "    priori = total_rel/total\n",
    "    \n",
    "    return (('{0:.2f}').format(math.log10(verossimilhança * priori)))"
   ]
  },
  {
   "cell_type": "markdown",
   "metadata": {},
   "source": [
    "As funções foram criadas no treinamento com o intuito de serem utilizadas na verificação da perfomance, que será realizada abaixo"
   ]
  },
  {
   "cell_type": "markdown",
   "metadata": {},
   "source": [
    "___\n",
    "### Verificando a performance\n",
    "\n",
    "A partir do treinamento, iremos usar tal realização para verificar a perfomance do nosso dispositivo"
   ]
  },
  {
   "cell_type": "code",
   "execution_count": 194,
   "metadata": {},
   "outputs": [],
   "source": [
    "# Leitura dos arquivos\n",
    "df_teste = pd.ExcelFile(\"Nubank.xlsx\")\n",
    "df_teste1 = pd.read_excel(df_teste, 'Teste')"
   ]
  },
  {
   "cell_type": "markdown",
   "metadata": {},
   "source": [
    "#### Criando os argumentos que entraram na função criada"
   ]
  },
  {
   "cell_type": "markdown",
   "metadata": {},
   "source": [
    "Número de tweets relevantes e irrelevantes e seu total"
   ]
  },
  {
   "cell_type": "code",
   "execution_count": 181,
   "metadata": {},
   "outputs": [
    {
     "name": "stdout",
     "output_type": "stream",
     "text": [
      "A quantidade de cada cada um é: \n",
      "\n",
      " Irrelevante    121\n",
      "Relevante       79\n",
      "Name: Relevância, dtype: int64\n"
     ]
    },
    {
     "data": {
      "text/plain": [
       "{'Irrelevante': 121, 'Relevante': 79}"
      ]
     },
     "execution_count": 181,
     "metadata": {},
     "output_type": "execute_result"
    }
   ],
   "source": [
    "df_teste1.Relevância = mensagens.Relevância.astype('category')\n",
    "df_teste1.Relevância.cat.categories = ('Irrelevante', 'Relevante')\n",
    "\n",
    "relevante_teste = df_teste1[df_teste1.Relevância==\"Relevante\"]\n",
    "irrelevante_teste = df_teste1[df_teste1.Relevância==\"Irrelevante\"]\n",
    "\n",
    "total_teste = len(relevante_teste) + len(irrelevante_teste)\n",
    "\n",
    "print(\"A quantidade de cada cada um é: \\n\\n\", df_teste1.Relevância.value_counts())\n",
    "dicionario_counts_relevância1 = (df_teste1.Relevância.value_counts()).to_dict()\n",
    "dicionario_counts_relevância1"
   ]
  },
  {
   "cell_type": "markdown",
   "metadata": {},
   "source": [
    "#### Relevante"
   ]
  },
  {
   "cell_type": "markdown",
   "metadata": {},
   "source": [
    "Frequência absoluta das palavras nos tweets relevantes e transformando em dicionário"
   ]
  },
  {
   "cell_type": "code",
   "execution_count": 182,
   "metadata": {},
   "outputs": [],
   "source": [
    "# Usando a função apply para fazer a limpeza nas mensagens\n",
    "df_teste2_rel = relevante_teste.Teste.apply(cleanup)\n",
    "df_teste2_rel = pd.DataFrame(pega_text(df_teste2_rel))\n",
    "\n",
    "# Criando dicionário\n",
    "dict_teste_counts_rel = (df_teste2_rel[0].value_counts()).to_dict()\n",
    "total_teste_rel = df_teste2_rel"
   ]
  },
  {
   "cell_type": "markdown",
   "metadata": {},
   "source": [
    "#### Irrelevante"
   ]
  },
  {
   "cell_type": "markdown",
   "metadata": {},
   "source": [
    "Frequência absoluta das palavras nos tweets irrelevantes e tranformando em dicionário"
   ]
  },
  {
   "cell_type": "code",
   "execution_count": 196,
   "metadata": {},
   "outputs": [],
   "source": [
    "df_teste2_irrel = pd.DataFrame(pega_text(irrelevante_teste.Teste.apply(cleanup)))\n",
    "dict_teste_counts_irrel = (df_teste2_irrel[0].value_counts()).to_dict()\n",
    "total_teste_irrel = df_teste2_irrel\n"
   ]
  },
  {
   "cell_type": "code",
   "execution_count": 197,
   "metadata": {},
   "outputs": [],
   "source": [
    "linhas_mens_teste = df_teste1.Teste.apply(cleanup)[0]"
   ]
  },
  {
   "cell_type": "code",
   "execution_count": 198,
   "metadata": {},
   "outputs": [
    {
     "name": "stdout",
     "output_type": "stream",
     "text": [
      "-9.76\n"
     ]
    }
   ],
   "source": [
    "# Exemplo de funcionamento\n",
    "print(probabilidade_do_naive_irr(dict_teste_counts_rel, dicionario_counts_relevância1, total, linhas_mens_teste, total_teste_rel))"
   ]
  },
  {
   "cell_type": "markdown",
   "metadata": {},
   "source": [
    "#### Relevante"
   ]
  },
  {
   "cell_type": "markdown",
   "metadata": {},
   "source": [
    "Cálculo da probabilidade de ser relevante, com base na planilha Teste, para fazer o teste"
   ]
  },
  {
   "cell_type": "code",
   "execution_count": 199,
   "metadata": {},
   "outputs": [],
   "source": [
    "probs_relevante2 = [0]*200\n",
    "\n",
    "i = 0\n",
    "for elemento in probs_relevante2:\n",
    "    linhas_mens_teste = df_teste1.Teste.apply(cleanup)[i]\n",
    "    probs_relevante2[i] = probabilidade_do_naive(dict_teste_counts_rel, dicionario_counts_relevância1, total_teste, linhas_mens_teste, df_teste2_rel)\n",
    "    i += 1\n",
    "\n"
   ]
  },
  {
   "cell_type": "markdown",
   "metadata": {},
   "source": [
    "#### Irrelevante"
   ]
  },
  {
   "cell_type": "markdown",
   "metadata": {},
   "source": [
    "Abaixo, calculando a probabilidade de ser irrelevante, com base no ensinamento e treinamento da máquina"
   ]
  },
  {
   "cell_type": "code",
   "execution_count": 200,
   "metadata": {},
   "outputs": [],
   "source": [
    "probs_irrelevante2 = [0]*200\n",
    "\n",
    "i = 0\n",
    "for elemento in probs_irrelevante2:\n",
    "    linhas_mens_teste = df_teste1.Teste.apply(cleanup)[i]\n",
    "    probs_irrelevante2[i] = probabilidade_do_naive_irr(dict_teste_counts_irrel, dicionario_counts_relevância1, total_teste, linhas_mens_teste, df_teste2_irrel)\n",
    "    i += 1"
   ]
  },
  {
   "cell_type": "markdown",
   "metadata": {},
   "source": [
    "#### Comparação"
   ]
  },
  {
   "cell_type": "code",
   "execution_count": 201,
   "metadata": {},
   "outputs": [],
   "source": [
    "def comparation(relevante, irrelevante):\n",
    "    i = 0 \n",
    "    result = []\n",
    "    for e in relevante:\n",
    "        if relevante[i] > irrelevante[i]:\n",
    "            result.append(\"Relevante\")\n",
    "        elif relevante[i] < irrelevante[i]:\n",
    "            result.append(\"Irrelevante\")\n",
    "        # É muito improvável que ocorra. Porém, se ocorrer, consideramos que é irrelevante\n",
    "        else:\n",
    "            result.append(0)\n",
    "        i += 1    \n",
    "        \n",
    "    return result"
   ]
  },
  {
   "cell_type": "code",
   "execution_count": 189,
   "metadata": {},
   "outputs": [],
   "source": [
    "resultado_das_relevancias = comparation(probs_relevante2, probs_irrelevante2)"
   ]
  },
  {
   "cell_type": "code",
   "execution_count": 190,
   "metadata": {
    "scrolled": true
   },
   "outputs": [
    {
     "name": "stdout",
     "output_type": "stream",
     "text": [
      "True: 160, False: 40\n"
     ]
    }
   ],
   "source": [
    "serie = []\n",
    "for linha in df_teste1.Relevância:\n",
    "    serie.append(linha)\n",
    "\n",
    "def comparação_com_classificados(relevancias_comparativas, classificados):\n",
    "    i = 0 \n",
    "    true = 0\n",
    "    false = 0\n",
    "    comparação_final = []\n",
    "    for e in classificados:\n",
    "        if relevancias_comparativas[i] == classificados[i]:\n",
    "            comparação_final.append(True)\n",
    "            true += 1\n",
    "        else:\n",
    "            comparação_final.append(False)\n",
    "            false += 1\n",
    "        i+=1\n",
    "            \n",
    "    print(f'True: {true}, False: {false}')    \n",
    "    \n",
    "    return comparação_final, true, false\n",
    "\n",
    "result, exito, fracasso = comparação_com_classificados(resultado_das_relevancias, serie)"
   ]
  },
  {
   "cell_type": "code",
   "execution_count": 191,
   "metadata": {},
   "outputs": [
    {
     "name": "stdout",
     "output_type": "stream",
     "text": [
      "Verdadeiros positivos: 32.0%\n",
      "Falsos positivos: 12.5%\n",
      "Verdadeiros negativos: 48.0%\n",
      "Falsos negativos: 7.5%\n"
     ]
    }
   ],
   "source": [
    "def porcentagem(serie, resultado_das_relevancias):\n",
    "    i = 0\n",
    "    soma = 0\n",
    "    ver_pos = 0\n",
    "    fal_pos = 0\n",
    "    ver_neg = 0\n",
    "    fal_neg = 0\n",
    "    \n",
    "    for elemento in serie:\n",
    "        if serie[i] == \"Relevante\" and resultado_das_relevancias[i]== \"Relevante\":\n",
    "            ver_pos += 1\n",
    "        elif serie[i] == \"Irrelevante\" and resultado_das_relevancias[i]== \"Irrelevante\":\n",
    "            ver_neg += 1\n",
    "        elif serie[i] == \"Relevante\" and resultado_das_relevancias[i]== \"Irrelevante\":\n",
    "            fal_neg += 1\n",
    "        elif serie[i] == \"Irrelevante\" and resultado_das_relevancias[i]== \"Relevante\":\n",
    "            fal_pos += 1\n",
    "        soma += 1\n",
    "        i += 1\n",
    "            \n",
    "    return ver_pos/soma, ver_neg/soma, fal_pos/soma, fal_neg/soma\n",
    "\n",
    "lista_porcentagem = porcentagem(serie, resultado_das_relevancias)\n",
    "list_porc = []\n",
    "i = 0\n",
    "for e in lista_porcentagem:\n",
    "    e *= 100\n",
    "    list_porc.append(e)\n",
    "    i += 1\n",
    "    \n",
    "    \n",
    "print(f'Verdadeiros positivos: {list_porc[0]}%')\n",
    "print(f'Falsos positivos: {list_porc[2]}%')\n",
    "print(f'Verdadeiros negativos: {list_porc[1]}%')\n",
    "print(f'Falsos negativos: {list_porc[3]}%')"
   ]
  },
  {
   "cell_type": "markdown",
   "metadata": {},
   "source": [
    "## Concluindo"
   ]
  },
  {
   "cell_type": "markdown",
   "metadata": {},
   "source": [
    "### Análise da eficiência do classificador Naive-Bayes"
   ]
  },
  {
   "cell_type": "markdown",
   "metadata": {},
   "source": [
    "O classificador teve um bom desempenho em classificar os tweets segundo os critérios pré selecionados e que definiam em qual categoria um tweet seria agrupado, tendo em vista que 80% de todos os tweets testes foram classificados corretamente, ou seja, 80% dos tweets foram classificados como verdadeiros positivos ou verdadeiros negativos."
   ]
  },
  {
   "cell_type": "code",
   "execution_count": 192,
   "metadata": {},
   "outputs": [
    {
     "data": {
      "text/plain": [
       "Text(0.5, 1.0, 'Gráfico da quantidade de êxitos do classificador(em %)')"
      ]
     },
     "execution_count": 192,
     "metadata": {},
     "output_type": "execute_result"
    },
    {
     "data": {
      "image/png": "[encoded data removed]",
      "text/plain": [
       "<Figure size 432x288 with 1 Axes>"
      ]
     },
     "metadata": {},
     "output_type": "display_data"
    }
   ],
   "source": [
    "%matplotlib inline\n",
    "import matplotlib.pyplot as plt\n",
    "import matplotlib\n",
    "matplotlib.style.use('ggplot')\n",
    "\n",
    "dici_pizza = {'Êxito':[exito], 'Fracasso':[fracasso]}\n",
    "grafico_pizza = pd.DataFrame(dici_pizza).transpose()\n",
    "grafico_pizza.plot(kind='pie', colors=('blue', 'red'), autopct=\"%0.2f\",legend=False, subplots=True)\n",
    "plt.title('Gráfico da quantidade de êxitos do classificador(em %)')"
   ]
  },
  {
   "cell_type": "code",
   "execution_count": 193,
   "metadata": {},
   "outputs": [
    {
     "data": {
      "text/plain": [
       "Text(0.5, 1.0, 'Relação entre as possíveis contagens(em %)')"
      ]
     },
     "execution_count": 193,
     "metadata": {},
     "output_type": "execute_result"
    },
    {
     "data": {
      "image/png": "[encoded data removed]",
      "text/plain": [
       "<Figure size 432x288 with 1 Axes>"
      ]
     },
     "metadata": {},
     "output_type": "display_data"
    }
   ],
   "source": [
    "grafico_pizza2 = pd.DataFrame({'Verdadeiros positivos': [list_porc[0]], 'Falsos positivos': [list_porc[2]], 'Verdadeiros negativos': [list_porc[1]], 'Falsos negativos': [list_porc[3]]}).transpose()\n",
    "grafico_pizza2.plot(kind='pie', colors=('blue', 'green', 'salmon', 'red'), autopct=\"%0.2f\",legend=False, subplots=True)\n",
    "plt.title('Relação entre as possíveis contagens(em %)')"
   ]
  },
  {
   "cell_type": "markdown",
   "metadata": {},
   "source": [
    "### Mensagens de dupla negação e sarcasmo"
   ]
  },
  {
   "cell_type": "markdown",
   "metadata": {},
   "source": [
    "As mensagens de dupla negação e sarcasmo não possuem interferência no nosso classificador, pois os critérios adotados não abrangem as características de que se uma opinião é boa ou ruim e sim se o tweety representa uma opinião clara ou não. "
   ]
  },
  {
   "cell_type": "markdown",
   "metadata": {},
   "source": [
    "### Plano de expansão"
   ]
  },
  {
   "cell_type": "markdown",
   "metadata": {},
   "source": [
    "Primeiramente, o projeto teve resultados positivos, pois cerca de 80% dos tweets foram classificados corretamente, ou seja, o feedback dos investimentos aplicados pela empresa tem sido positivos. Além disso, possui-se um plano de expansão que envolve a categorização dos tweets relevantes em opiniões boas ou ruins a respeito do produto, tornando assim a probabilidade como uma ferramenta a favor do marketing da companhia."
   ]
  },
  {
   "cell_type": "markdown",
   "metadata": {},
   "source": [
    "### Limpezas e transformações nos tweets"
   ]
  },
  {
   "cell_type": "markdown",
   "metadata": {},
   "source": [
    "Para uma melhor limpeza dos tweets e a fim de aumentar a eficiência do classificador, pensa-se em retirar palavras que geralmente não ajudam a emitir opiniões, ou não as modifiquem quando retiradas, como artigos e alguns adjuntos adverbiais, ou seja utilizando o método Removing StopWords, como apontado pelo artigo do site monkeylearn.com."
   ]
  },
  {
   "cell_type": "markdown",
   "metadata": {},
   "source": [
    "### Por que não usar o próprio classificador para gerar mais análises?"
   ]
  },
  {
   "cell_type": "markdown",
   "metadata": {},
   "source": [
    "O classificador foi projetado em um modelo em que ele tem a capacidade de analsiar somente duas categorias. Além disso, critérios específicos e subjetivos foram estabelecidos a fim de fe"
   ]
  },
  {
   "cell_type": "markdown",
   "metadata": {},
   "source": [
    "### Diferentes fenômenos que podem ser aplicados"
   ]
  },
  {
   "cell_type": "markdown",
   "metadata": {},
   "source": [
    "O ideal realizado nesse projeto é de extrema relevância no mundo da Ciência dos Dados e pode ser utilizado em diversos contextos, desde identificação de mensagens de spam, que possuem semelhantes tipos de palavras com o objetivo de enganar em e-mails. Ademais, pode ser usado em análise de usuários, sobre o que eles escrevem e como podemos identificar seus padrões de palavras e postagens para colocar anúncios dirigidos a eles."
   ]
  },
  {
   "cell_type": "raw",
   "metadata": {},
   "source": []
  },
  {
   "cell_type": "markdown",
   "metadata": {},
   "source": [
    "# Referências"
   ]
  },
  {
   "cell_type": "markdown",
   "metadata": {},
   "source": [
    "[Naive Bayes and Text Classification](https://arxiv.org/pdf/1410.5329.pdf)  **Mais completo**\n",
    "\n",
    "[A practical explanation of a Naive Bayes Classifier](https://monkeylearn.com/blog/practical-explanation-naive-bayes-classifier/) **Mais simples**"
   ]
  }
 ],
 "metadata": {
  "kernelspec": {
   "display_name": "Python 3",
   "language": "python",
   "name": "python3"
  },
  "language_info": {
   "codemirror_mode": {
    "name": "ipython",
    "version": 3
   },
   "file_extension": ".py",
   "mimetype": "text/x-python",
   "name": "python",
   "nbconvert_exporter": "python",
   "pygments_lexer": "ipython3",
   "version": "3.7.3"
  }
 },
 "nbformat": 4,
 "nbformat_minor": 4
}
