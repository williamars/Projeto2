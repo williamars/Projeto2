{
 "cells": [
  {
   "cell_type": "markdown",
   "metadata": {},
   "source": [
    "# Projeto 2 - Ciência dos Dados"
   ]
  },
  {
   "cell_type": "markdown",
   "metadata": {},
   "source": [
    "**Nome**: Jonas da Silva Lopes\n",
    "\n",
    "**Nome**: William Silva"
   ]
  },
  {
   "cell_type": "markdown",
   "metadata": {},
   "source": [
    "\n",
    "# Classificador automático de sentimento"
   ]
  },
  {
   "cell_type": "markdown",
   "metadata": {},
   "source": [
    "## Preparando o ambiente no jupyter:"
   ]
  },
  {
   "cell_type": "code",
   "execution_count": 22,
   "metadata": {},
   "outputs": [],
   "source": [
    "%%capture\n",
    "!pip install tweepy\n",
    "!pip install emoji"
   ]
  },
  {
   "cell_type": "code",
   "execution_count": 24,
   "metadata": {
    "jupyter": {
     "outputs_hidden": true
    }
   },
   "outputs": [],
   "source": [
    "import tweepy\n",
    "import emoji\n",
    "import math\n",
    "import os.path\n",
    "import pandas as pd\n",
    "import json\n",
    "import re \n",
    "import functools\n",
    "import operator\n",
    "from random import shuffle"
   ]
  },
  {
   "cell_type": "markdown",
   "metadata": {},
   "source": [
    "___\n",
    "## Autenticando no  Twitter\n",
    "\n",
    "* Conta: ***@William48253649***"
   ]
  },
  {
   "cell_type": "code",
   "execution_count": 25,
   "metadata": {
    "jupyter": {
     "outputs_hidden": true
    }
   },
   "outputs": [],
   "source": [
    "#Identificador da conta no twitter: @William48253649\n",
    "\n",
    "#leitura do arquivo no formato JSON\n",
    "with open('auth.pass') as fp:    \n",
    "    data = json.load(fp)\n",
    "\n",
    "#Configurando a biblioteca\n",
    "auth = tweepy.OAuthHandler(data['consumer_key'], data['consumer_secret'])\n",
    "auth.set_access_token(data['access_token'], data['access_token_secret'])"
   ]
  },
  {
   "cell_type": "markdown",
   "metadata": {},
   "source": [
    "___\n",
    "## Etapas do projeto:"
   ]
  },
  {
   "cell_type": "markdown",
   "metadata": {},
   "source": [
    "### Escolha de um produto e coleta das mensagens\n"
   ]
  },
  {
   "cell_type": "code",
   "execution_count": 26,
   "metadata": {
    "jupyter": {
     "outputs_hidden": true
    }
   },
   "outputs": [],
   "source": [
    "#Produto escolhido\n",
    "produto = 'Nubank'\n",
    "\n",
    "#Quantidade mínima de mensagens capturadas\n",
    "n = 500\n",
    "#Quantidade mínima de mensagens para a base de treinamento\n",
    "t = 300\n",
    "\n",
    "#Filtro de língua\n",
    "lang = 'pt'"
   ]
  },
  {
   "cell_type": "markdown",
   "metadata": {},
   "source": [
    "Capturando os dados do twitter:"
   ]
  },
  {
   "cell_type": "code",
   "execution_count": 27,
   "metadata": {
    "jupyter": {
     "outputs_hidden": true
    }
   },
   "outputs": [],
   "source": [
    "#Cria um objeto para a captura\n",
    "api = tweepy.API(auth)\n",
    "\n",
    "#Inicia a captura\n",
    "i = 1\n",
    "msgs = []\n",
    "for msg in tweepy.Cursor(api.search, q=produto, lang=lang, tweet_mode=\"extended\").items():    \n",
    "    msgs.append(msg.full_text.lower()) #Lower para deixar tudo minúsculo e facilitar a comparação\n",
    "    i += 1\n",
    "    if i > n:\n",
    "        break\n",
    "\n",
    "#Embaralhando as mensagens para reduzir um possível viés\n",
    "shuffle(msgs)"
   ]
  },
  {
   "cell_type": "markdown",
   "metadata": {},
   "source": [
    "Salvando os dados em uma planilha Excel:"
   ]
  },
  {
   "cell_type": "code",
   "execution_count": 62,
   "metadata": {
    "jupyter": {
     "outputs_hidden": true
    }
   },
   "outputs": [],
   "source": [
    "#Verifica se o arquivo não existe para não substituir um conjunto pronto\n",
    "if not os.path.isfile('./{0}.xlsx'.format(produto)):\n",
    "    \n",
    "    #Abre o arquivo para escrita\n",
    "    writer = pd.ExcelWriter('{0}.xlsx'.format(produto))\n",
    "\n",
    "    #divide o conjunto de mensagens em duas planilhas\n",
    "    dft = pd.DataFrame({'Treinamento' : pd.Series(msgs[:t])}).set()\n",
    "    dft.to_excel(excel_writer = writer, sheet_name = 'Treinamento', index = False)\n",
    "\n",
    "    dfc = pd.DataFrame({'Teste' : pd.Series(msgs[t:])}).set()\n",
    "    dfc.to_excel(excel_writer = writer, sheet_name = 'Teste', index = False)\n",
    "\n",
    "    #fecha o arquivo\n",
    "    writer.save()"
   ]
  },
  {
   "cell_type": "markdown",
   "metadata": {},
   "source": [
    "___\n",
    "### Classificando as mensagens na coragem\n",
    "\n",
    "Após realizar a classificação manual das mensagens, como irrelevante (0) ou relevante (1), partimos para  a mudança desses valores para algo mais palpável para a análise. Com isso, fazemos a alteração que pode ser vista abaixo."
   ]
  },
  {
   "cell_type": "markdown",
   "metadata": {},
   "source": [
    "Mas, para realizar isso, primeiro foi necessário determinar critérios para a classificação:\n",
    "\n",
    "- Mencionar o produto;\n",
    "- A menção ao produto deve ser acompanhada de uma opinião;\n",
    "- A opinião pode ser demonstrada na forma de indagações, reclamações, pode envolver sarcasmo, elogios e sugestões sobre serviços;\n",
    "- A opinião afirmada deve ser clara;\n",
    "- Emoctions também representam opiniões."
   ]
  },
  {
   "cell_type": "code",
   "execution_count": 66,
   "metadata": {
    "scrolled": true
   },
   "outputs": [
    {
     "name": "stdout",
     "output_type": "stream",
     "text": [
      "A quantidade de cada cada um é: \n",
      "\n",
      " Irrelevante    184\n",
      "Relevante      116\n",
      "Name: Relevância, dtype: int64\n"
     ]
    }
   ],
   "source": [
    "mensagens = pd.read_excel(\"Nubank.xlsx\")\n",
    "mensagens.Relevância = mensagens.Relevância.astype('category')\n",
    "mensagens.Relevância.cat.categories = ('Irrelevante', 'Relevante')\n",
    "\n",
    "\n",
    "relevante = mensagens[mensagens.Relevância==\"Relevante\"]\n",
    "irrelevante = mensagens[mensagens.Relevância==\"Irrelevante\"]\n",
    "\n",
    "total = len(relevante) + len(irrelevante)\n",
    "\n",
    "print(\"A quantidade de cada cada um é: \\n\\n\", mensagens.Relevância.value_counts())"
   ]
  },
  {
   "cell_type": "code",
   "execution_count": 30,
   "metadata": {},
   "outputs": [
    {
     "name": "stdout",
     "output_type": "stream",
     "text": [
      "A probabilidade de ser relevante é 38.666666666666664 %\n",
      "A probabilidade de ser irrelevante é 61.33333333333333 %\n"
     ]
    }
   ],
   "source": [
    "'''A Partir dos dados obtidos, nota-se que:\n",
    "        p(relevante) = 116/300\n",
    "        p(irrelevante) = 184/300\n",
    "'''\n",
    "p_relev = 116/300*100\n",
    "print(\"A probabilidade de ser relevante é\", p_relev, \"%\")\n",
    "\n",
    "p_irrelev = 184/300*100\n",
    "print(\"A probabilidade de ser irrelevante é\", p_irrelev, \"%\")"
   ]
  },
  {
   "cell_type": "code",
   "execution_count": 93,
   "metadata": {
    "scrolled": true
   },
   "outputs": [],
   "source": [
    "''' Função que troca pontuação por espaço '''\n",
    "def cleanup(text):\n",
    "    punctuation = '[!\\-.:?;/,|@\"\\'()]'\n",
    "    pattern = re.compile(punctuation)\n",
    "    # Abaixo, determina que se troca por espaço\n",
    "    text_subbed = re.sub(pattern, ' ', text)\n",
    "    \n",
    "    emoji_dividir = emoji.get_emoji_regexp().split(text_subbed)\n",
    "    espaco_dividir = [substr.split() for substr in emoji_dividir]\n",
    "    split = functools.reduce(operator.concat, espaco_dividir)\n",
    "    \n",
    "    return split\n",
    "\n",
    "# Usando a função apply para fazer a limpeza nas mensagens\n",
    "nubank_relev = relevante.Treinamento.apply(cleanup)\n",
    "nubank_irrelev = irrelevante.Treinamento.apply(cleanup)\n",
    "\n",
    "# Pegando as palavras da lista de Relevantes para contar\n",
    "def pega_text(texto):\n",
    "    # Pega as palavras para colocar numa lista\n",
    "    lista = []\n",
    "    i = 0\n",
    "    for linha in texto:\n",
    "        if len(linha) > 1:\n",
    "            while i < len(linha):\n",
    "                lista.append(linha[i])\n",
    "                i += 1  \n",
    "            i = 0\n",
    "        elif len(linha) != 1 and (len(linha)-1) != 1:\n",
    "            a = texto\n",
    "            return a \n",
    "    return lista"
   ]
  },
  {
   "cell_type": "markdown",
   "metadata": {},
   "source": [
    "### Frequência Absoluta"
   ]
  },
  {
   "cell_type": "markdown",
   "metadata": {},
   "source": [
    "Relevantes"
   ]
  },
  {
   "cell_type": "code",
   "execution_count": 32,
   "metadata": {
    "scrolled": true
   },
   "outputs": [
    {
     "data": {
      "text/plain": [
       "nubank          122\n",
       "o                58\n",
       "de               54\n",
       "e                52\n",
       "eu               47\n",
       "que              45\n",
       "a                35\n",
       "meu              34\n",
       "me               29\n",
       "https            28\n",
       "co               28\n",
       "t                28\n",
       "um               27\n",
       "não              26\n",
       "é                25\n",
       "do               23\n",
       "cartão           23\n",
       "no               20\n",
       "uma              16\n",
       "pra              15\n",
       "q                15\n",
       "na               15\n",
       "to               14\n",
       "com              14\n",
       "só               13\n",
       "mais             12\n",
       "limite           12\n",
       "tem              11\n",
       "nunca            11\n",
       "da               11\n",
       "               ... \n",
       "relata            1\n",
       "cmg               1\n",
       "continuar         1\n",
       "#nubank           1\n",
       "chance            1\n",
       "simplesmente      1\n",
       "samba             1\n",
       "qq                1\n",
       "apareceu          1\n",
       "função            1\n",
       "fechamento        1\n",
       "tornam            1\n",
       "curioso           1\n",
       "crystal           1\n",
       "futebol           1\n",
       "for               1\n",
       "gastei            1\n",
       "lembrando         1\n",
       "digital           1\n",
       "estourar          1\n",
       "melhores          1\n",
       "acometendo        1\n",
       "sabe              1\n",
       "pena              1\n",
       "estorno           1\n",
       "frustado          1\n",
       "salvou            1\n",
       "chamada           1\n",
       "renatojg          1\n",
       "merecia           1\n",
       "Name: 0, Length: 833, dtype: int64"
      ]
     },
     "execution_count": 32,
     "metadata": {},
     "output_type": "execute_result"
    }
   ],
   "source": [
    "# Frequência dos Relevantes\n",
    "lista_nubank_relev = pd.DataFrame(pega_text(nubank_relev))\n",
    "lista_nubank_relev[0].value_counts()"
   ]
  },
  {
   "cell_type": "markdown",
   "metadata": {},
   "source": [
    "Irrelevantes"
   ]
  },
  {
   "cell_type": "code",
   "execution_count": 33,
   "metadata": {
    "scrolled": true
   },
   "outputs": [
    {
     "data": {
      "text/plain": [
       "nubank           154\n",
       "o                 71\n",
       "de                67\n",
       "e                 62\n",
       "que               60\n",
       "co                58\n",
       "https             58\n",
       "t                 58\n",
       "a                 57\n",
       "não               52\n",
       "é                 38\n",
       "um                36\n",
       "eu                34\n",
       "da                33\n",
       "com               33\n",
       "do                31\n",
       "se                30\n",
       "gente             29\n",
       "tem               28\n",
       "rt                28\n",
       "meu               26\n",
       "pra               26\n",
       "no                25\n",
       "em                25\n",
       "cartão            24\n",
       "você              24\n",
       "na                24\n",
       "só                22\n",
       "conta             22\n",
       "uma               22\n",
       "                ... \n",
       "comprovante        1\n",
       "cagaço             1\n",
       "douglas_chgs       1\n",
       "7wgummaqki         1\n",
       "garantido          1\n",
       "ajudem             1\n",
       "torcida            1\n",
       "resolveu           1\n",
       "interferir         1\n",
       "torrar             1\n",
       "medo               1\n",
       "entrega            1\n",
       "olhada             1\n",
       "diminuírem         1\n",
       "esperamos          1\n",
       "clona              1\n",
       "pzuhzm8rb0         1\n",
       "eyxec1assh         1\n",
       "resolver           1\n",
       "mal                1\n",
       "reconhecido        1\n",
       "amos               1\n",
       "liberar            1\n",
       "amore              1\n",
       "maribsantana_      1\n",
       "lugar              1\n",
       "fofa               1\n",
       "telefone           1\n",
       "acontece           1\n",
       "kinnybouvier_      1\n",
       "Name: 0, Length: 1114, dtype: int64"
      ]
     },
     "execution_count": 33,
     "metadata": {},
     "output_type": "execute_result"
    }
   ],
   "source": [
    "# Frequência dos Irrelevantes\n",
    "lista_nubank_irrelev = pd.DataFrame(pega_text(nubank_irrelev))\n",
    "lista_nubank_irrelev[0].value_counts()\n",
    "lista_nubank_irrelev[0].value_counts()"
   ]
  },
  {
   "cell_type": "markdown",
   "metadata": {},
   "source": [
    "### Frequência Relativa"
   ]
  },
  {
   "cell_type": "markdown",
   "metadata": {},
   "source": [
    "Relevante"
   ]
  },
  {
   "cell_type": "code",
   "execution_count": 34,
   "metadata": {
    "scrolled": true
   },
   "outputs": [
    {
     "data": {
      "text/plain": [
       "nubank          0.056092\n",
       "o               0.026667\n",
       "de              0.024828\n",
       "e               0.023908\n",
       "eu              0.021609\n",
       "que             0.020690\n",
       "a               0.016092\n",
       "meu             0.015632\n",
       "me              0.013333\n",
       "https           0.012874\n",
       "co              0.012874\n",
       "t               0.012874\n",
       "um              0.012414\n",
       "não             0.011954\n",
       "é               0.011494\n",
       "do              0.010575\n",
       "cartão          0.010575\n",
       "no              0.009195\n",
       "uma             0.007356\n",
       "pra             0.006897\n",
       "q               0.006897\n",
       "na              0.006897\n",
       "to              0.006437\n",
       "com             0.006437\n",
       "só              0.005977\n",
       "mais            0.005517\n",
       "limite          0.005517\n",
       "tem             0.005057\n",
       "nunca           0.005057\n",
       "da              0.005057\n",
       "                  ...   \n",
       "relata          0.000460\n",
       "cmg             0.000460\n",
       "continuar       0.000460\n",
       "#nubank         0.000460\n",
       "chance          0.000460\n",
       "simplesmente    0.000460\n",
       "samba           0.000460\n",
       "qq              0.000460\n",
       "apareceu        0.000460\n",
       "função          0.000460\n",
       "fechamento      0.000460\n",
       "tornam          0.000460\n",
       "curioso         0.000460\n",
       "crystal         0.000460\n",
       "futebol         0.000460\n",
       "for             0.000460\n",
       "gastei          0.000460\n",
       "lembrando       0.000460\n",
       "digital         0.000460\n",
       "estourar        0.000460\n",
       "melhores        0.000460\n",
       "acometendo      0.000460\n",
       "sabe            0.000460\n",
       "pena            0.000460\n",
       "estorno         0.000460\n",
       "frustado        0.000460\n",
       "salvou          0.000460\n",
       "chamada         0.000460\n",
       "renatojg        0.000460\n",
       "merecia         0.000460\n",
       "Name: 0, Length: 833, dtype: float64"
      ]
     },
     "execution_count": 34,
     "metadata": {},
     "output_type": "execute_result"
    }
   ],
   "source": [
    "lista_nubank_relev[0].value_counts(True)"
   ]
  },
  {
   "cell_type": "markdown",
   "metadata": {},
   "source": [
    "Irrelevante"
   ]
  },
  {
   "cell_type": "code",
   "execution_count": 35,
   "metadata": {
    "scrolled": true
   },
   "outputs": [
    {
     "data": {
      "text/plain": [
       "nubank           0.045441\n",
       "o                0.020950\n",
       "de               0.019770\n",
       "e                0.018294\n",
       "que              0.017704\n",
       "co               0.017114\n",
       "https            0.017114\n",
       "t                0.017114\n",
       "a                0.016819\n",
       "não              0.015344\n",
       "é                0.011213\n",
       "um               0.010623\n",
       "eu               0.010032\n",
       "da               0.009737\n",
       "com              0.009737\n",
       "do               0.009147\n",
       "se               0.008852\n",
       "gente            0.008557\n",
       "tem              0.008262\n",
       "rt               0.008262\n",
       "meu              0.007672\n",
       "pra              0.007672\n",
       "no               0.007377\n",
       "em               0.007377\n",
       "cartão           0.007082\n",
       "você             0.007082\n",
       "na               0.007082\n",
       "só               0.006492\n",
       "conta            0.006492\n",
       "uma              0.006492\n",
       "                   ...   \n",
       "comprovante      0.000295\n",
       "cagaço           0.000295\n",
       "douglas_chgs     0.000295\n",
       "7wgummaqki       0.000295\n",
       "garantido        0.000295\n",
       "ajudem           0.000295\n",
       "torcida          0.000295\n",
       "resolveu         0.000295\n",
       "interferir       0.000295\n",
       "torrar           0.000295\n",
       "medo             0.000295\n",
       "entrega          0.000295\n",
       "olhada           0.000295\n",
       "diminuírem       0.000295\n",
       "esperamos        0.000295\n",
       "clona            0.000295\n",
       "pzuhzm8rb0       0.000295\n",
       "eyxec1assh       0.000295\n",
       "resolver         0.000295\n",
       "mal              0.000295\n",
       "reconhecido      0.000295\n",
       "amos             0.000295\n",
       "liberar          0.000295\n",
       "amore            0.000295\n",
       "maribsantana_    0.000295\n",
       "lugar            0.000295\n",
       "fofa             0.000295\n",
       "telefone         0.000295\n",
       "acontece         0.000295\n",
       "kinnybouvier_    0.000295\n",
       "Name: 0, Length: 1114, dtype: float64"
      ]
     },
     "execution_count": 35,
     "metadata": {},
     "output_type": "execute_result"
    }
   ],
   "source": [
    "lista_nubank_irrelev[0].value_counts(True)"
   ]
  },
  {
   "cell_type": "markdown",
   "metadata": {},
   "source": [
    "___\n",
    "### Montando o Classificador Naive-Bayes\n",
    "\n",
    "Considerando apenas as mensagens da planilha Treinamento, estamos ensinando nosso treinador a identificar as probabilidades, para posteriormente fazer a identificação e a leitura. "
   ]
  },
  {
   "cell_type": "markdown",
   "metadata": {},
   "source": [
    "#### Relevantes"
   ]
  },
  {
   "cell_type": "code",
   "execution_count": 36,
   "metadata": {},
   "outputs": [],
   "source": [
    "'''Fazendo dicionários, para serem utilizados com objetivos na função'''\n",
    "\n",
    "linhas_mens = mensagens.Treinamento.apply(cleanup)[0]\n",
    "\n",
    "# Dicionário que guarda, dos relevantes, as palavras e quantas vezes apareceu\n",
    "lista_counts_relevante = (lista_nubank_relev[0].value_counts()).to_dict()\n",
    "\n",
    "# Dicionário que guarda a quantidade de relevantes e irrelevantes\n",
    "dicionario_counts_relevancia = (mensagens.Relevância.value_counts()).to_dict()"
   ]
  },
  {
   "cell_type": "code",
   "execution_count": 144,
   "metadata": {},
   "outputs": [
    {
     "name": "stdout",
     "output_type": "stream",
     "text": [
      "-94.33\n"
     ]
    }
   ],
   "source": [
    "# Função que calcula as probabilidade de ser relevante\n",
    "def probabilidade_do_naive(lista_counts_relevante, dicionario_counts_relevancia, total, linhas_mens, lista_nubank_relev):\n",
    "    verossimilhança = 1\n",
    "    for word in linhas_mens:\n",
    "        for key, values in lista_counts_relevante.items():\n",
    "            if key == word:\n",
    "                verossimilhança *= (values+1)/len(lista_nubank_relev)\n",
    "    \n",
    "    for rel, v in dicionario_counts_relevancia.items():\n",
    "        if rel == \"Relevante\":\n",
    "            total_rel = v\n",
    "    priori = total_rel/total\n",
    "    \n",
    "    return (('{0:.2f}').format(math.log10(verossimilhança * priori)))\n",
    "\n",
    "print(probabilidade_do_naive(lista_counts_relevante, dicionario_counts_relevancia, total, linhas_mens, lista_nubank_relev))"
   ]
  },
  {
   "cell_type": "code",
   "execution_count": 148,
   "metadata": {
    "scrolled": true
   },
   "outputs": [
    {
     "data": {
      "text/plain": [
       "['-94.33',\n",
       " '-53.34',\n",
       " '-11.67',\n",
       " '-15.11',\n",
       " '-15.79',\n",
       " '-38.20',\n",
       " '-18.60',\n",
       " '-46.38',\n",
       " '-22.95',\n",
       " '-37.96',\n",
       " '-16.50',\n",
       " '-23.07',\n",
       " '-49.40',\n",
       " '-36.64',\n",
       " '-58.45',\n",
       " '-25.09',\n",
       " '-17.15',\n",
       " '-45.56',\n",
       " '-15.92',\n",
       " '-62.50',\n",
       " '-38.70',\n",
       " '-18.43',\n",
       " '-65.57',\n",
       " '-59.22',\n",
       " '-25.27',\n",
       " '-113.98',\n",
       " '-44.09',\n",
       " '-17.43',\n",
       " '-31.04',\n",
       " '-9.51',\n",
       " '-72.40',\n",
       " '-69.71',\n",
       " '-18.43',\n",
       " '-47.93',\n",
       " '-87.25',\n",
       " '-5.94',\n",
       " '-22.34',\n",
       " '-33.79',\n",
       " '-43.73',\n",
       " '-27.15',\n",
       " '-41.88',\n",
       " '-25.21',\n",
       " '-21.75',\n",
       " '-14.21',\n",
       " '-13.21',\n",
       " '-71.64',\n",
       " '-26.48',\n",
       " '-24.66',\n",
       " '-43.37',\n",
       " '-13.99',\n",
       " '-17.73',\n",
       " '-13.89',\n",
       " '-20.42',\n",
       " '-21.01',\n",
       " '-14.96',\n",
       " '-18.38',\n",
       " '-51.91',\n",
       " '-40.46',\n",
       " '-52.46',\n",
       " '-77.59',\n",
       " '-91.46',\n",
       " '-33.63',\n",
       " '-16.22',\n",
       " '-36.86',\n",
       " '-24.35',\n",
       " '-27.61',\n",
       " '-34.69',\n",
       " '-37.43',\n",
       " '-38.70',\n",
       " '-55.27',\n",
       " '-1.66',\n",
       " '-20.54',\n",
       " '-42.72',\n",
       " '-1.66',\n",
       " '-27.81',\n",
       " '-22.01',\n",
       " '-3.85',\n",
       " '-63.67',\n",
       " '-40.04',\n",
       " '-13.64',\n",
       " '-20.21',\n",
       " '-17.11',\n",
       " '-10.48',\n",
       " '-124.38',\n",
       " '-17.95',\n",
       " '-14.14',\n",
       " '-19.13',\n",
       " '-46.20',\n",
       " '-38.70',\n",
       " '-34.77',\n",
       " '-11.98',\n",
       " '-73.24',\n",
       " '-17.62',\n",
       " '-28.67',\n",
       " '-28.29',\n",
       " '-64.62',\n",
       " '-51.89',\n",
       " '-37.85',\n",
       " '-39.29',\n",
       " '-23.62',\n",
       " '-51.21',\n",
       " '-74.08',\n",
       " '-30.28',\n",
       " '-38.70',\n",
       " '-49.81',\n",
       " '-29.12',\n",
       " '-10.98',\n",
       " '-24.90',\n",
       " '-23.40',\n",
       " '-126.69',\n",
       " '-34.07',\n",
       " '-63.80',\n",
       " '-29.66',\n",
       " '-39.22',\n",
       " '-21.71',\n",
       " '-10.95',\n",
       " '-21.73',\n",
       " '-27.10',\n",
       " '-22.84',\n",
       " '-12.58',\n",
       " '-26.32',\n",
       " '-31.65',\n",
       " '-36.56',\n",
       " '-59.31',\n",
       " '-19.61',\n",
       " '-20.97',\n",
       " '-31.22',\n",
       " '-36.28',\n",
       " '-75.91',\n",
       " '-16.98',\n",
       " '-22.61',\n",
       " '-3.55',\n",
       " '-30.77',\n",
       " '-9.29',\n",
       " '-23.32',\n",
       " '-11.05',\n",
       " '-4.00',\n",
       " '-10.47',\n",
       " '-47.22',\n",
       " '-15.62',\n",
       " '-41.68',\n",
       " '-3.45',\n",
       " '-77.77',\n",
       " '-21.38',\n",
       " '-4.30',\n",
       " '-16.32',\n",
       " '-20.26',\n",
       " '-29.42',\n",
       " '-40.95',\n",
       " '-73.45',\n",
       " '-36.43',\n",
       " '-16.22',\n",
       " '-29.30',\n",
       " '-14.95',\n",
       " '-26.39',\n",
       " '-33.10',\n",
       " '-53.98',\n",
       " '-9.62',\n",
       " '-82.67',\n",
       " '-14.73',\n",
       " '-56.90',\n",
       " '-100.32',\n",
       " '-43.70',\n",
       " '-32.67',\n",
       " '-44.33',\n",
       " '-8.50',\n",
       " '-36.48',\n",
       " '-23.62',\n",
       " '-77.76',\n",
       " '-47.60',\n",
       " '-27.29',\n",
       " '-56.40',\n",
       " '-20.09',\n",
       " '-26.47',\n",
       " '-36.59',\n",
       " '-10.17',\n",
       " '-78.72',\n",
       " '-16.17',\n",
       " '-44.45',\n",
       " '-11.91',\n",
       " '-38.70',\n",
       " '-21.81',\n",
       " '-27.48',\n",
       " '-90.57',\n",
       " '-14.95',\n",
       " '-23.73',\n",
       " '-12.35',\n",
       " '-23.15',\n",
       " '-13.92',\n",
       " '-67.07',\n",
       " '-24.81',\n",
       " '-13.53',\n",
       " '-51.33',\n",
       " '-67.41',\n",
       " '-39.23',\n",
       " '-123.05',\n",
       " '-78.06',\n",
       " '-10.75',\n",
       " '-44.28',\n",
       " '-32.69',\n",
       " '-29.17',\n",
       " '-35.19',\n",
       " '-4.70',\n",
       " '-36.00',\n",
       " '-32.37',\n",
       " '-22.72',\n",
       " '-20.33',\n",
       " '-29.26',\n",
       " '-53.72',\n",
       " '-41.61',\n",
       " '-8.90',\n",
       " '-30.49',\n",
       " '-40.35',\n",
       " '-32.97',\n",
       " '-8.35',\n",
       " '-7.26',\n",
       " '-11.29',\n",
       " '-8.17',\n",
       " '-16.52',\n",
       " '-39.62',\n",
       " '-16.02',\n",
       " '-26.67',\n",
       " '-57.47',\n",
       " '-6.26',\n",
       " '-65.29',\n",
       " '-38.70',\n",
       " '-15.52',\n",
       " '-47.78',\n",
       " '-39.40',\n",
       " '-16.13',\n",
       " '-25.37',\n",
       " '-18.73',\n",
       " '-14.77',\n",
       " '-48.61',\n",
       " '-32.95',\n",
       " '-21.80',\n",
       " '-33.01',\n",
       " '-12.01',\n",
       " '-8.12',\n",
       " '-44.21',\n",
       " '-13.82',\n",
       " '-29.03',\n",
       " '-38.70',\n",
       " '-17.35',\n",
       " '-31.40',\n",
       " '-19.58',\n",
       " '-46.81',\n",
       " '-21.40',\n",
       " '-134.22',\n",
       " '-7.51',\n",
       " '-14.40',\n",
       " '-7.34',\n",
       " '-59.43',\n",
       " '-11.35',\n",
       " '-10.88',\n",
       " '-24.65',\n",
       " '-9.45',\n",
       " '-25.47',\n",
       " '-26.50',\n",
       " '-32.98',\n",
       " '-49.93',\n",
       " '-12.60',\n",
       " '-13.08',\n",
       " '-4.30',\n",
       " '-35.96',\n",
       " '-95.92',\n",
       " '-20.28',\n",
       " '-23.79',\n",
       " '-13.05',\n",
       " '-31.54',\n",
       " '-19.23',\n",
       " '-13.26',\n",
       " '-26.17',\n",
       " '-17.88',\n",
       " '-53.85',\n",
       " '-32.14',\n",
       " '-48.93',\n",
       " '-28.07',\n",
       " '-5.71',\n",
       " '-17.33',\n",
       " '-87.84',\n",
       " '-46.99',\n",
       " '-14.93',\n",
       " '-120.77',\n",
       " '-49.73',\n",
       " '-79.31',\n",
       " '-11.00',\n",
       " '-24.34',\n",
       " '-38.70',\n",
       " '-90.52',\n",
       " '-57.29',\n",
       " '-38.70',\n",
       " '-70.11',\n",
       " '-25.04',\n",
       " '-38.70',\n",
       " '-43.99',\n",
       " '-90.47',\n",
       " '-19.72',\n",
       " '-25.65',\n",
       " '-18.03']"
      ]
     },
     "execution_count": 148,
     "metadata": {},
     "output_type": "execute_result"
    }
   ],
   "source": [
    "probs_relevante = [0]*300\n",
    "\n",
    "i = 0\n",
    "for h in probs_relevante:\n",
    "    linhas_mens = mensagens.Treinamento.apply(cleanup)[i]\n",
    "    probs_relevante[i] = probabilidade_do_naive(lista_counts_relevante, dicionario_counts_relevancia, total, linhas_mens, lista_nubank_relev)\n",
    "    i += 1\n",
    "probs_relevante"
   ]
  },
  {
   "cell_type": "markdown",
   "metadata": {},
   "source": [
    "#### Irrelevantes"
   ]
  },
  {
   "cell_type": "code",
   "execution_count": 149,
   "metadata": {},
   "outputs": [],
   "source": [
    "# Dicionário que guarda, dos irrelevantes, as palavras e quantas vezes apareceu\n",
    "lista_counts_irrelevante = (lista_nubank_irrelev[0].value_counts()).to_dict()"
   ]
  },
  {
   "cell_type": "code",
   "execution_count": 150,
   "metadata": {},
   "outputs": [],
   "source": [
    "# Função que calcula as probabilidade de ser irrelevante\n",
    "def probabilidade_do_naive_irr(lista_counts_irrelevante, dicionario_counts_relevancia, total, linhas_mens, lista_nubank_irrelev):\n",
    "    verossimilhança = 1\n",
    "    # Identificando a quantidade e calculando a probabilidade de cada palavra do tweet\n",
    "    for word in linhas_mens:\n",
    "        for key, values in lista_counts_irrelevante.items():\n",
    "            if key == word:\n",
    "                verossimilhança *= (values+1) / len(lista_nubank_irrelev)\n",
    "    \n",
    "    # Pegando a probabilidade e dividindo pelo total, usando Naive Bayes\n",
    "    for rel, v in dicionario_counts_relevancia.items():\n",
    "        if rel == \"Irrelevante\":\n",
    "            total_rel = v\n",
    "    priori = total_rel/total\n",
    "    \n",
    "    return (('{0:.2f}').format(math.log10(verossimilhança * priori)))"
   ]
  },
  {
   "cell_type": "code",
   "execution_count": 170,
   "metadata": {},
   "outputs": [],
   "source": [
    "probs_irrelevante = [0]*300\n",
    "\n",
    "i = 0\n",
    "for h in probs_irrelevante:\n",
    "    linhas_mens = mensagens.Treinamento.apply(cleanup)[i]\n",
    "    probs_irrelevante[i] = probabilidade_do_naive_irr(lista_counts_irrelevante, dicionario_counts_relevancia, total, linhas_mens, lista_nubank_irrelev)\n",
    "    i += 1\n",
    "#probs_irrelevante"
   ]
  },
  {
   "cell_type": "markdown",
   "metadata": {},
   "source": [
    "___\n",
    "### Verificando a performance\n",
    "\n",
    "Agora você deve testar o seu classificador com a base de Testes."
   ]
  },
  {
   "cell_type": "code",
   "execution_count": 177,
   "metadata": {},
   "outputs": [],
   "source": [
    "df_teste = pd.ExcelFile(\"Nubank.xlsx\")\n",
    "df_teste1 = pd.read_excel(df_teste, 'Teste')"
   ]
  },
  {
   "cell_type": "markdown",
   "metadata": {},
   "source": [
    "#### Criando os argumentos que entraram na função criada"
   ]
  },
  {
   "cell_type": "markdown",
   "metadata": {},
   "source": [
    "Número de tweets relevantes e irrelevantes e seu total"
   ]
  },
  {
   "cell_type": "code",
   "execution_count": 188,
   "metadata": {},
   "outputs": [
    {
     "name": "stdout",
     "output_type": "stream",
     "text": [
      "A quantidade de cada cada um é: \n",
      "\n",
      " Irrelevante    121\n",
      "Relevante       79\n",
      "Name: Relevância, dtype: int64\n"
     ]
    },
    {
     "data": {
      "text/plain": [
       "{'Irrelevante': 121, 'Relevante': 79}"
      ]
     },
     "execution_count": 188,
     "metadata": {},
     "output_type": "execute_result"
    }
   ],
   "source": [
    "df_teste1.Relevância = mensagens.Relevância.astype('category')\n",
    "df_teste1.Relevância.cat.categories = ('Irrelevante', 'Relevante')\n",
    "\n",
    "relevante_teste = df_teste1[df_teste1.Relevância==\"Relevante\"]\n",
    "irrelevante_teste = df_teste1[df_teste1.Relevância==\"Irrelevante\"]\n",
    "\n",
    "total_teste = len(relevante_teste) + len(irrelevante_teste)\n",
    "\n",
    "print(\"A quantidade de cada cada um é: \\n\\n\", df_teste1.Relevância.value_counts())\n",
    "dicionario_counts_relevância1 = (df_teste1.Relevância.value_counts()).to_dict()\n",
    "dicionario_counts_relevância1"
   ]
  },
  {
   "cell_type": "markdown",
   "metadata": {},
   "source": [
    "#### Relevante"
   ]
  },
  {
   "cell_type": "markdown",
   "metadata": {},
   "source": [
    "Frequência absoluta das palavras nos tweets relevantes e transformando em dicionário"
   ]
  },
  {
   "cell_type": "code",
   "execution_count": 187,
   "metadata": {},
   "outputs": [],
   "source": [
    "# Usando a função apply para fazer a limpeza nas mensagens\n",
    "df_teste2_rel = relevante_teste.Teste.apply(cleanup)\n",
    "df_teste2_rel = pd.DataFrame(pega_text(df_teste2_rel))\n",
    "\n",
    "dict_teste_counts_rel = (df_teste2_rel[0].value_counts()).to_dict()\n",
    "total_teste_rel = df_teste2_rel"
   ]
  },
  {
   "cell_type": "markdown",
   "metadata": {},
   "source": [
    "#### Irrelevante"
   ]
  },
  {
   "cell_type": "markdown",
   "metadata": {},
   "source": [
    "Frequência absoluta das palavras nos tweets irrelevantes e tranformando em dicionário"
   ]
  },
  {
   "cell_type": "code",
   "execution_count": 162,
   "metadata": {},
   "outputs": [],
   "source": [
    "df_teste2_irrel = pd.DataFrame(pega_text(irrelevante_teste.Teste.apply(cleanup)))\n",
    "dict_teste_counts_irrel = (df_teste2_irrel[0].value_counts()).to_dict()\n",
    "total_teste_irrel = df_teste2_irrel\n"
   ]
  },
  {
   "cell_type": "code",
   "execution_count": 167,
   "metadata": {},
   "outputs": [],
   "source": [
    "linhas_mens_teste = df_teste1.Teste.apply(cleanup)[0]"
   ]
  },
  {
   "cell_type": "code",
   "execution_count": 168,
   "metadata": {},
   "outputs": [
    {
     "name": "stdout",
     "output_type": "stream",
     "text": [
      "-9.75\n"
     ]
    }
   ],
   "source": [
    "print(probabilidade_do_naive_irr(dict_teste_counts_rel, dicionario_counts_relevância1, total, linhas_mens_teste, total_teste_rel))"
   ]
  },
  {
   "cell_type": "markdown",
   "metadata": {},
   "source": [
    "#### Relevante"
   ]
  },
  {
   "cell_type": "code",
   "execution_count": 193,
   "metadata": {},
   "outputs": [],
   "source": [
    "probs_relevante2 = [0]*200\n",
    "\n",
    "i = 0\n",
    "for elemento in probs_relevante2:\n",
    "    linhas_mens_teste = df_teste1.Teste.apply(cleanup)[i]\n",
    "    probs_relevante2[i] = probabilidade_do_naive(dict_teste_counts_rel, dicionario_counts_relevância1, total_teste, linhas_mens_teste, df_teste2_rel)\n",
    "    i += 1\n",
    "\n"
   ]
  },
  {
   "cell_type": "markdown",
   "metadata": {},
   "source": [
    "#### Irrelevante"
   ]
  },
  {
   "cell_type": "code",
   "execution_count": 197,
   "metadata": {},
   "outputs": [],
   "source": [
    "probs_irrelevante2 = [0]*200\n",
    "\n",
    "i = 0\n",
    "for elemento in probs_irrelevante2:\n",
    "    linhas_mens_teste = df_teste1.Teste.apply(cleanup)[i]\n",
    "    probs_irrelevante2[i] = probabilidade_do_naive_irr(dict_teste_counts_irrel, dicionario_counts_relevância1, total_teste, linhas_mens_teste, df_teste2_irrel)\n",
    "    i += 1"
   ]
  },
  {
   "cell_type": "markdown",
   "metadata": {},
   "source": [
    "#### Comparação"
   ]
  },
  {
   "cell_type": "code",
   "execution_count": 216,
   "metadata": {},
   "outputs": [],
   "source": [
    "def comparation(relevante, irrelevante):\n",
    "    i = 0 \n",
    "    result = []\n",
    "    for e in relevante:\n",
    "        if relevante[i] > irrelevante[i]:\n",
    "            result.append(\"Relevante\")\n",
    "        elif relevante[i] < irrelevante[i]:\n",
    "            result.append(\"Irrelevante\")\n",
    "        # É muito improvável que ocorra. Porém, se ocorrer, consideramos que é irrelevante\n",
    "        else:\n",
    "            result.append(0)\n",
    "        i+=1    \n",
    "        \n",
    "    return result"
   ]
  },
  {
   "cell_type": "code",
   "execution_count": 220,
   "metadata": {},
   "outputs": [],
   "source": [
    "resultado_das_relevancias = comparation(probs_relevante2, probs_irrelevante2)"
   ]
  },
  {
   "cell_type": "code",
   "execution_count": 223,
   "metadata": {},
   "outputs": [
    {
     "name": "stdout",
     "output_type": "stream",
     "text": [
      "161 39\n"
     ]
    },
    {
     "data": {
      "text/plain": [
       "[True,\n",
       " True,\n",
       " True,\n",
       " False,\n",
       " True,\n",
       " True,\n",
       " True,\n",
       " True,\n",
       " True,\n",
       " True,\n",
       " False,\n",
       " True,\n",
       " True,\n",
       " True,\n",
       " True,\n",
       " True,\n",
       " True,\n",
       " False,\n",
       " True,\n",
       " True,\n",
       " True,\n",
       " True,\n",
       " True,\n",
       " True,\n",
       " True,\n",
       " True,\n",
       " False,\n",
       " False,\n",
       " False,\n",
       " True,\n",
       " True,\n",
       " True,\n",
       " False,\n",
       " True,\n",
       " False,\n",
       " True,\n",
       " True,\n",
       " True,\n",
       " True,\n",
       " True,\n",
       " True,\n",
       " True,\n",
       " True,\n",
       " True,\n",
       " False,\n",
       " True,\n",
       " True,\n",
       " True,\n",
       " True,\n",
       " True,\n",
       " True,\n",
       " True,\n",
       " False,\n",
       " True,\n",
       " True,\n",
       " False,\n",
       " False,\n",
       " True,\n",
       " True,\n",
       " True,\n",
       " True,\n",
       " True,\n",
       " True,\n",
       " True,\n",
       " True,\n",
       " False,\n",
       " True,\n",
       " True,\n",
       " True,\n",
       " True,\n",
       " True,\n",
       " True,\n",
       " True,\n",
       " True,\n",
       " True,\n",
       " False,\n",
       " True,\n",
       " True,\n",
       " True,\n",
       " True,\n",
       " True,\n",
       " True,\n",
       " True,\n",
       " True,\n",
       " True,\n",
       " True,\n",
       " True,\n",
       " True,\n",
       " True,\n",
       " True,\n",
       " True,\n",
       " False,\n",
       " False,\n",
       " True,\n",
       " True,\n",
       " False,\n",
       " False,\n",
       " True,\n",
       " True,\n",
       " True,\n",
       " True,\n",
       " True,\n",
       " True,\n",
       " True,\n",
       " True,\n",
       " True,\n",
       " True,\n",
       " False,\n",
       " True,\n",
       " True,\n",
       " True,\n",
       " True,\n",
       " True,\n",
       " True,\n",
       " True,\n",
       " True,\n",
       " True,\n",
       " True,\n",
       " True,\n",
       " True,\n",
       " False,\n",
       " False,\n",
       " True,\n",
       " False,\n",
       " False,\n",
       " True,\n",
       " False,\n",
       " True,\n",
       " True,\n",
       " True,\n",
       " True,\n",
       " True,\n",
       " True,\n",
       " True,\n",
       " False,\n",
       " True,\n",
       " False,\n",
       " False,\n",
       " True,\n",
       " True,\n",
       " True,\n",
       " True,\n",
       " False,\n",
       " False,\n",
       " True,\n",
       " False,\n",
       " True,\n",
       " True,\n",
       " True,\n",
       " True,\n",
       " True,\n",
       " True,\n",
       " True,\n",
       " True,\n",
       " True,\n",
       " True,\n",
       " False,\n",
       " True,\n",
       " True,\n",
       " False,\n",
       " True,\n",
       " True,\n",
       " True,\n",
       " True,\n",
       " True,\n",
       " True,\n",
       " False,\n",
       " True,\n",
       " True,\n",
       " True,\n",
       " False,\n",
       " True,\n",
       " True,\n",
       " True,\n",
       " False,\n",
       " True,\n",
       " True,\n",
       " True,\n",
       " False,\n",
       " True,\n",
       " False,\n",
       " True,\n",
       " True,\n",
       " True,\n",
       " True,\n",
       " True,\n",
       " True,\n",
       " True,\n",
       " True,\n",
       " False,\n",
       " True,\n",
       " True,\n",
       " True,\n",
       " False,\n",
       " True,\n",
       " True,\n",
       " True,\n",
       " True,\n",
       " True,\n",
       " True]"
      ]
     },
     "execution_count": 223,
     "metadata": {},
     "output_type": "execute_result"
    }
   ],
   "source": [
    "serie = []\n",
    "for linha in df_teste1.Relevância:\n",
    "    serie.append(linha)\n",
    "\n",
    "def comparação_com_classificados(relevancias_comparativas, classificados):\n",
    "    i = 0 \n",
    "    contador1 = 0\n",
    "    contador2 = 0\n",
    "    comparação_final = []\n",
    "    for e in classificados:\n",
    "        if relevancias_comparativas[i] == classificados[i]:\n",
    "            comparação_final.append(True)\n",
    "            contador1 += 1\n",
    "        else:\n",
    "            comparação_final.append(False)\n",
    "            contador2 += 1\n",
    "        i+=1\n",
    "            \n",
    "    print(contador1, contador2)    \n",
    "    \n",
    "    return comparação_final\n",
    "\n",
    "comparação_com_classificados(resultado_das_relevancias, serie)\n",
    "\n",
    "\n"
   ]
  },
  {
   "cell_type": "markdown",
   "metadata": {},
   "source": [
    "___\n",
    "### Concluindo"
   ]
  },
  {
   "cell_type": "code",
   "execution_count": null,
   "metadata": {},
   "outputs": [],
   "source": []
  },
  {
   "cell_type": "code",
   "execution_count": null,
   "metadata": {},
   "outputs": [],
   "source": []
  },
  {
   "cell_type": "markdown",
   "metadata": {},
   "source": [
    "## Aperfeiçoamento:\n",
    "\n",
    "Os trabalhos vão evoluir em conceito dependendo da quantidade de itens avançados:\n",
    "\n",
    "* Limpar: \\n, :, \", ', (, ), etc SEM remover emojis\n",
    "* Corrigir separação de espaços entre palavras e emojis ou emojis e emojis\n",
    "* Propor outras limpezas e transformações que não afetem a qualidade da informação ou classificação\n",
    "* Criar categorias intermediárias de relevância baseadas na probabilidade: ex.: muito relevante, relevante, neutro, irrelevante, muito irrelevante (3 categorias: C, mais categorias conta para B)\n",
    "* Explicar por que não posso usar o próprio classificador para gerar mais amostras de treinamento\n",
    "* Propor diferentes cenários para Naïve Bayes fora do contexto do projeto\n",
    "* Sugerir e explicar melhorias reais com indicações concretas de como implementar (indicar como fazer e indicar material de pesquisa)\n",
    "* Montar um dashboard que periodicamente realiza análise de sentimento e visualiza estes dados"
   ]
  },
  {
   "cell_type": "markdown",
   "metadata": {},
   "source": [
    "# Referências"
   ]
  },
  {
   "cell_type": "markdown",
   "metadata": {},
   "source": [
    "[Naive Bayes and Text Classification](https://arxiv.org/pdf/1410.5329.pdf)  **Mais completo**\n",
    "\n",
    "[A practical explanation of a Naive Bayes Classifier](https://monkeylearn.com/blog/practical-explanation-naive-bayes-classifier/) **Mais simples**"
   ]
  },
  {
   "cell_type": "code",
   "execution_count": null,
   "metadata": {},
   "outputs": [],
   "source": []
  }
 ],
 "metadata": {
  "kernelspec": {
   "display_name": "Python 3",
   "language": "python",
   "name": "python3"
  },
  "language_info": {
   "codemirror_mode": {
    "name": "ipython",
    "version": 3
   },
   "file_extension": ".py",
   "mimetype": "text/x-python",
   "name": "python",
   "nbconvert_exporter": "python",
   "pygments_lexer": "ipython3",
   "version": "3.7.1"
  }
 },
 "nbformat": 4,
 "nbformat_minor": 4
}
