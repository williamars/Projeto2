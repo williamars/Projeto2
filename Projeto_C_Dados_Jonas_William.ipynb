{
 "cells": [
  {
   "cell_type": "markdown",
   "metadata": {},
   "source": [
    "# Projeto 2 - Ciência dos Dados"
   ]
  },
  {
   "cell_type": "markdown",
   "metadata": {},
   "source": [
    "**Nome**: Jonas da Silva Lopes\n",
    "\n",
    "**Nome**: William Silva"
   ]
  },
  {
   "cell_type": "markdown",
   "metadata": {},
   "source": [
    "\n",
    "# Classificador automático de sentimento"
   ]
  },
  {
   "cell_type": "markdown",
   "metadata": {},
   "source": [
    "## Preparando o ambiente no jupyter:"
   ]
  },
  {
   "cell_type": "code",
   "execution_count": 73,
   "metadata": {},
   "outputs": [],
   "source": [
    "%%capture\n",
    "!pip install tweepy\n",
    "!pip install emoji"
   ]
  },
  {
   "cell_type": "code",
   "execution_count": 74,
   "metadata": {
    "jupyter": {
     "outputs_hidden": true
    }
   },
   "outputs": [],
   "source": [
    "import tweepy\n",
    "import emoji\n",
    "import math\n",
    "import os.path\n",
    "import pandas as pd\n",
    "import json\n",
    "import re \n",
    "import functools\n",
    "import operator\n",
    "from random import shuffle"
   ]
  },
  {
   "cell_type": "markdown",
   "metadata": {},
   "source": [
    "___\n",
    "## Autenticando no  Twitter\n",
    "\n",
    "* Conta: ***@William48253649***"
   ]
  },
  {
   "cell_type": "code",
   "execution_count": 75,
   "metadata": {
    "jupyter": {
     "outputs_hidden": true
    }
   },
   "outputs": [],
   "source": [
    "#Identificador da conta no twitter: @William48253649\n",
    "\n",
    "#leitura do arquivo no formato JSON\n",
    "with open('auth.pass') as fp:    \n",
    "    data = json.load(fp)\n",
    "\n",
    "#Configurando a biblioteca\n",
    "auth = tweepy.OAuthHandler(data['consumer_key'], data['consumer_secret'])\n",
    "auth.set_access_token(data['access_token'], data['access_token_secret'])"
   ]
  },
  {
   "cell_type": "markdown",
   "metadata": {},
   "source": [
    "___\n",
    "## Etapas do projeto:"
   ]
  },
  {
   "cell_type": "markdown",
   "metadata": {},
   "source": [
    "### Escolha de um produto e coleta das mensagens\n"
   ]
  },
  {
   "cell_type": "code",
   "execution_count": 76,
   "metadata": {
    "jupyter": {
     "outputs_hidden": true
    }
   },
   "outputs": [],
   "source": [
    "#Produto escolhido\n",
    "produto = 'Nubank'\n",
    "\n",
    "#Quantidade mínima de mensagens capturadas\n",
    "n = 500\n",
    "#Quantidade mínima de mensagens para a base de treinamento\n",
    "t = 300\n",
    "\n",
    "#Filtro de língua\n",
    "lang = 'pt'"
   ]
  },
  {
   "cell_type": "markdown",
   "metadata": {},
   "source": [
    "Capturando os dados do twitter:"
   ]
  },
  {
   "cell_type": "code",
   "execution_count": 77,
   "metadata": {
    "jupyter": {
     "outputs_hidden": true
    }
   },
   "outputs": [],
   "source": [
    "#Cria um objeto para a captura\n",
    "api = tweepy.API(auth)\n",
    "\n",
    "#Inicia a captura\n",
    "i = 1\n",
    "msgs = []\n",
    "for msg in tweepy.Cursor(api.search, q=produto, lang=lang, tweet_mode=\"extended\").items():    \n",
    "    msgs.append(msg.full_text.lower()) #Lower para deixar tudo minúsculo e facilitar a comparação\n",
    "    i += 1\n",
    "    if i > n:\n",
    "        break\n",
    "\n",
    "#Embaralhando as mensagens para reduzir um possível viés\n",
    "shuffle(msgs)"
   ]
  },
  {
   "cell_type": "markdown",
   "metadata": {},
   "source": [
    "Salvando os dados em uma planilha Excel:"
   ]
  },
  {
   "cell_type": "code",
   "execution_count": 78,
   "metadata": {
    "jupyter": {
     "outputs_hidden": true
    }
   },
   "outputs": [],
   "source": [
    "#Verifica se o arquivo não existe para não substituir um conjunto pronto\n",
    "if not os.path.isfile('./{0}.xlsx'.format(produto)):\n",
    "    \n",
    "    #Abre o arquivo para escrita\n",
    "    writer = pd.ExcelWriter('{0}.xlsx'.format(produto))\n",
    "\n",
    "    #divide o conjunto de mensagens em duas planilhas\n",
    "    dft = pd.DataFrame({'Treinamento' : pd.Series(msgs[:t])}).set()\n",
    "    dft.to_excel(excel_writer = writer, sheet_name = 'Treinamento', index = False)\n",
    "\n",
    "    dfc = pd.DataFrame({'Teste' : pd.Series(msgs[t:])}).set()\n",
    "    dfc.to_excel(excel_writer = writer, sheet_name = 'Teste', index = False)\n",
    "\n",
    "    #fecha o arquivo\n",
    "    writer.save()"
   ]
  },
  {
   "cell_type": "markdown",
   "metadata": {},
   "source": [
    "___\n",
    "### Classificando as mensagens na coragem\n",
    "\n",
    "Após realizar a classificação manual das mensagens, como irrelevante (0) ou relevante (1), partimos para  a mudança desses valores para algo mais palpável para a análise. Com isso, fazemos a alteração que pode ser vista abaixo."
   ]
  },
  {
   "cell_type": "markdown",
   "metadata": {},
   "source": [
    "Mas, para realizar isso, primeiro foi necessário determinar critérios para a classificação:\n",
    "\n",
    "- Mencionar o produto;\n",
    "- A menção ao produto deve ser acompanhada de uma opinião;\n",
    "- A opinião pode ser demonstrada na forma de indagações, reclamações, pode envolver sarcasmo, elogios e sugestões sobre serviços;\n",
    "- A opinião afirmada deve ser clara;\n",
    "- Emoctions também representam opiniões."
   ]
  },
  {
   "cell_type": "code",
   "execution_count": 95,
   "metadata": {},
   "outputs": [
    {
     "name": "stdout",
     "output_type": "stream",
     "text": [
      "A quantidade de cada cada um é: \n",
      "\n",
      " Irrelevante    184\n",
      "Relevante      116\n",
      "Name: Relevância, dtype: int64\n"
     ]
    },
    {
     "data": {
      "text/html": [
       "<div>\n",
       "<style scoped>\n",
       "    .dataframe tbody tr th:only-of-type {\n",
       "        vertical-align: middle;\n",
       "    }\n",
       "\n",
       "    .dataframe tbody tr th {\n",
       "        vertical-align: top;\n",
       "    }\n",
       "\n",
       "    .dataframe thead th {\n",
       "        text-align: right;\n",
       "    }\n",
       "</style>\n",
       "<table border=\"1\" class=\"dataframe\">\n",
       "  <thead>\n",
       "    <tr style=\"text-align: right;\">\n",
       "      <th></th>\n",
       "      <th>Treinamento</th>\n",
       "      <th>Relevância</th>\n",
       "    </tr>\n",
       "  </thead>\n",
       "  <tbody>\n",
       "    <tr>\n",
       "      <th>0</th>\n",
       "      <td>rindo mas preocupada pois cada dia parece que ...</td>\n",
       "      <td>Relevante</td>\n",
       "    </tr>\n",
       "    <tr>\n",
       "      <th>1</th>\n",
       "      <td>rt @nubank: este é um atendimento real do nuba...</td>\n",
       "      <td>Irrelevante</td>\n",
       "    </tr>\n",
       "    <tr>\n",
       "      <th>2</th>\n",
       "      <td>esse nubank é bom mesmo? 🤔</td>\n",
       "      <td>Irrelevante</td>\n",
       "    </tr>\n",
       "    <tr>\n",
       "      <th>3</th>\n",
       "      <td>@brunoln91 @nubank pow @nubank, verdinho e tud...</td>\n",
       "      <td>Irrelevante</td>\n",
       "    </tr>\n",
       "    <tr>\n",
       "      <th>4</th>\n",
       "      <td>@kinnybouvier_ @1masterball vo ligar no nubank...</td>\n",
       "      <td>Irrelevante</td>\n",
       "    </tr>\n",
       "    <tr>\n",
       "      <th>5</th>\n",
       "      <td>depois dessa vou deixar meu limite negativo no...</td>\n",
       "      <td>Irrelevante</td>\n",
       "    </tr>\n",
       "    <tr>\n",
       "      <th>6</th>\n",
       "      <td>eu amo o nubank mesmo https://t.co/rrpb89yes9</td>\n",
       "      <td>Relevante</td>\n",
       "    </tr>\n",
       "    <tr>\n",
       "      <th>7</th>\n",
       "      <td>meu pai pediu um cartão novo pra mim pra pegar...</td>\n",
       "      <td>Relevante</td>\n",
       "    </tr>\n",
       "    <tr>\n",
       "      <th>8</th>\n",
       "      <td>quem inventou o nubank nem é gente, é um anjo</td>\n",
       "      <td>Relevante</td>\n",
       "    </tr>\n",
       "    <tr>\n",
       "      <th>9</th>\n",
       "      <td>rt @bichabichabcha: @nubank @mabzinhaa antes m...</td>\n",
       "      <td>Irrelevante</td>\n",
       "    </tr>\n",
       "    <tr>\n",
       "      <th>10</th>\n",
       "      <td>@rafaelmfierro rafa, ficamos mega felizes de v...</td>\n",
       "      <td>Irrelevante</td>\n",
       "    </tr>\n",
       "    <tr>\n",
       "      <th>11</th>\n",
       "      <td>@castrocastrado @nubank se quiser eu te indico...</td>\n",
       "      <td>Relevante</td>\n",
       "    </tr>\n",
       "    <tr>\n",
       "      <th>12</th>\n",
       "      <td>@1masterball @haunted_electra me assusta muito...</td>\n",
       "      <td>Relevante</td>\n",
       "    </tr>\n",
       "    <tr>\n",
       "      <th>13</th>\n",
       "      <td>prejuízo nubank: banco tem 12 milhões de clien...</td>\n",
       "      <td>Relevante</td>\n",
       "    </tr>\n",
       "    <tr>\n",
       "      <th>14</th>\n",
       "      <td>@vannyhudgensfak não fica assim! sabemos que a...</td>\n",
       "      <td>Irrelevante</td>\n",
       "    </tr>\n",
       "    <tr>\n",
       "      <th>15</th>\n",
       "      <td>@marialmeida93 @thaioliv_ @nubank menina que t...</td>\n",
       "      <td>Relevante</td>\n",
       "    </tr>\n",
       "    <tr>\n",
       "      <th>16</th>\n",
       "      <td>nubank aumenta meu limite que agora eu sou tra...</td>\n",
       "      <td>Irrelevante</td>\n",
       "    </tr>\n",
       "    <tr>\n",
       "      <th>17</th>\n",
       "      <td>@meusolhos4 mandamos esses lembretes para que ...</td>\n",
       "      <td>Irrelevante</td>\n",
       "    </tr>\n",
       "    <tr>\n",
       "      <th>18</th>\n",
       "      <td>queria saber se o nubank é bom mesmo</td>\n",
       "      <td>Irrelevante</td>\n",
       "    </tr>\n",
       "    <tr>\n",
       "      <th>19</th>\n",
       "      <td>@nubank @itoncrf_ e assim mesmo n me aprovaram...</td>\n",
       "      <td>Relevante</td>\n",
       "    </tr>\n",
       "    <tr>\n",
       "      <th>20</th>\n",
       "      <td>rt @quembindera: se tu é assalariado, não paga...</td>\n",
       "      <td>Irrelevante</td>\n",
       "    </tr>\n",
       "    <tr>\n",
       "      <th>21</th>\n",
       "      <td>depois de anos tentando,fui aceita no nubank</td>\n",
       "      <td>Relevante</td>\n",
       "    </tr>\n",
       "    <tr>\n",
       "      <th>22</th>\n",
       "      <td>rt @afropreticinha: aff coma assim o cartão da...</td>\n",
       "      <td>Relevante</td>\n",
       "    </tr>\n",
       "    <tr>\n",
       "      <th>23</th>\n",
       "      <td>@brunosviana13 nossos clientes que são sensaci...</td>\n",
       "      <td>Irrelevante</td>\n",
       "    </tr>\n",
       "    <tr>\n",
       "      <th>24</th>\n",
       "      <td>agr eu queria que a @nubank me aceitasse pra t...</td>\n",
       "      <td>Irrelevante</td>\n",
       "    </tr>\n",
       "    <tr>\n",
       "      <th>25</th>\n",
       "      <td>fiquei assustada quando vi que minha fatura do...</td>\n",
       "      <td>Relevante</td>\n",
       "    </tr>\n",
       "    <tr>\n",
       "      <th>26</th>\n",
       "      <td>nubank nunca me liberou crédito, agr q libera....</td>\n",
       "      <td>Relevante</td>\n",
       "    </tr>\n",
       "    <tr>\n",
       "      <th>27</th>\n",
       "      <td>meu nubank chegou😍 vos declaro falência</td>\n",
       "      <td>Relevante</td>\n",
       "    </tr>\n",
       "    <tr>\n",
       "      <th>28</th>\n",
       "      <td>@lucasafoliveira @nubank ele trava assim e não...</td>\n",
       "      <td>Relevante</td>\n",
       "    </tr>\n",
       "    <tr>\n",
       "      <th>29</th>\n",
       "      <td>@noshdalgo pqp vc tem nubank?</td>\n",
       "      <td>Irrelevante</td>\n",
       "    </tr>\n",
       "    <tr>\n",
       "      <th>...</th>\n",
       "      <td>...</td>\n",
       "      <td>...</td>\n",
       "    </tr>\n",
       "    <tr>\n",
       "      <th>270</th>\n",
       "      <td>@plynchado @jcbrodt @nubank @bancointer é, bom...</td>\n",
       "      <td>Irrelevante</td>\n",
       "    </tr>\n",
       "    <tr>\n",
       "      <th>271</th>\n",
       "      <td>@nubank hum.... entendi. então muito obrigado ...</td>\n",
       "      <td>Irrelevante</td>\n",
       "    </tr>\n",
       "    <tr>\n",
       "      <th>272</th>\n",
       "      <td>eu mesmo kkkkkkkkkkkkk tô rindo mas chorando \\...</td>\n",
       "      <td>Irrelevante</td>\n",
       "    </tr>\n",
       "    <tr>\n",
       "      <th>273</th>\n",
       "      <td>@seclerb e aí, já pensou como iremos comemorar...</td>\n",
       "      <td>Irrelevante</td>\n",
       "    </tr>\n",
       "    <tr>\n",
       "      <th>274</th>\n",
       "      <td>next e nubank duas bombas, essas porras não li...</td>\n",
       "      <td>Relevante</td>\n",
       "    </tr>\n",
       "    <tr>\n",
       "      <th>275</th>\n",
       "      <td>@dinhamariae @nubank já fui em mais de 3 lotér...</td>\n",
       "      <td>Irrelevante</td>\n",
       "    </tr>\n",
       "    <tr>\n",
       "      <th>276</th>\n",
       "      <td>@nicolemeloa @1masterball e o cartão da nubank...</td>\n",
       "      <td>Irrelevante</td>\n",
       "    </tr>\n",
       "    <tr>\n",
       "      <th>277</th>\n",
       "      <td>@luiz_hespanha @aluraonline @nubank quem tem @...</td>\n",
       "      <td>Irrelevante</td>\n",
       "    </tr>\n",
       "    <tr>\n",
       "      <th>278</th>\n",
       "      <td>@ronyptrsn banco inter e nubank</td>\n",
       "      <td>Irrelevante</td>\n",
       "    </tr>\n",
       "    <tr>\n",
       "      <th>279</th>\n",
       "      <td>@lanaalmeidaofc @nubank nunca decepciona, o me...</td>\n",
       "      <td>Relevante</td>\n",
       "    </tr>\n",
       "    <tr>\n",
       "      <th>280</th>\n",
       "      <td>@__chicao__ @nubank o meu a \"sorte\" é que foi ...</td>\n",
       "      <td>Relevante</td>\n",
       "    </tr>\n",
       "    <tr>\n",
       "      <th>281</th>\n",
       "      <td>fui na johnny joy comprar um milkshake, entreg...</td>\n",
       "      <td>Irrelevante</td>\n",
       "    </tr>\n",
       "    <tr>\n",
       "      <th>282</th>\n",
       "      <td>meu cartão da nubank chegou, bora torrar meu s...</td>\n",
       "      <td>Irrelevante</td>\n",
       "    </tr>\n",
       "    <tr>\n",
       "      <th>283</th>\n",
       "      <td>eu perguntei de um amigo se ele queria que eu ...</td>\n",
       "      <td>Relevante</td>\n",
       "    </tr>\n",
       "    <tr>\n",
       "      <th>284</th>\n",
       "      <td>@blruno estamos melhorando nossos modelos para...</td>\n",
       "      <td>Irrelevante</td>\n",
       "    </tr>\n",
       "    <tr>\n",
       "      <th>285</th>\n",
       "      <td>@meusolhos4 pagamento via boleto podem levar a...</td>\n",
       "      <td>Irrelevante</td>\n",
       "    </tr>\n",
       "    <tr>\n",
       "      <th>286</th>\n",
       "      <td>@luqueijoana @nubank moro não, tô no aterrado agr</td>\n",
       "      <td>Irrelevante</td>\n",
       "    </tr>\n",
       "    <tr>\n",
       "      <th>287</th>\n",
       "      <td>não aguento mais o @nubank  me lembrando de pa...</td>\n",
       "      <td>Relevante</td>\n",
       "    </tr>\n",
       "    <tr>\n",
       "      <th>288</th>\n",
       "      <td>rt @quembindera: se tu é assalariado, não paga...</td>\n",
       "      <td>Irrelevante</td>\n",
       "    </tr>\n",
       "    <tr>\n",
       "      <th>289</th>\n",
       "      <td>aconteceu o mesmo comigo, compraram enxoval de...</td>\n",
       "      <td>Relevante</td>\n",
       "    </tr>\n",
       "    <tr>\n",
       "      <th>290</th>\n",
       "      <td>@nubank corre aqui por favor, to perdida. o ch...</td>\n",
       "      <td>Relevante</td>\n",
       "    </tr>\n",
       "    <tr>\n",
       "      <th>291</th>\n",
       "      <td>rt @nickthomasnocu: se tu é assalariado, não p...</td>\n",
       "      <td>Irrelevante</td>\n",
       "    </tr>\n",
       "    <tr>\n",
       "      <th>292</th>\n",
       "      <td>@__chicao__ @gtcarvalh0 @nubank passei por iss...</td>\n",
       "      <td>Relevante</td>\n",
       "    </tr>\n",
       "    <tr>\n",
       "      <th>293</th>\n",
       "      <td>deixe seu convite para o cartão nubank!\\n#nuba...</td>\n",
       "      <td>Irrelevante</td>\n",
       "    </tr>\n",
       "    <tr>\n",
       "      <th>294</th>\n",
       "      <td>rt @quembindera: se tu é assalariado, não paga...</td>\n",
       "      <td>Irrelevante</td>\n",
       "    </tr>\n",
       "    <tr>\n",
       "      <th>295</th>\n",
       "      <td>@marcjrsouza por aqui não conseguimos interfer...</td>\n",
       "      <td>Irrelevante</td>\n",
       "    </tr>\n",
       "    <tr>\n",
       "      <th>296</th>\n",
       "      <td>to desde o dia 1º tentando pagar a porra da mi...</td>\n",
       "      <td>Relevante</td>\n",
       "    </tr>\n",
       "    <tr>\n",
       "      <th>297</th>\n",
       "      <td>@maluulana @nubank eu devo ser a primeira da f...</td>\n",
       "      <td>Irrelevante</td>\n",
       "    </tr>\n",
       "    <tr>\n",
       "      <th>298</th>\n",
       "      <td>@nubank @yasuqh kakakakakakkak pqp eu quero se...</td>\n",
       "      <td>Relevante</td>\n",
       "    </tr>\n",
       "    <tr>\n",
       "      <th>299</th>\n",
       "      <td>@1masterball @renatojg nossa! clonaram um nuba...</td>\n",
       "      <td>Relevante</td>\n",
       "    </tr>\n",
       "  </tbody>\n",
       "</table>\n",
       "<p>300 rows × 2 columns</p>\n",
       "</div>"
      ],
      "text/plain": [
       "                                           Treinamento   Relevância\n",
       "0    rindo mas preocupada pois cada dia parece que ...    Relevante\n",
       "1    rt @nubank: este é um atendimento real do nuba...  Irrelevante\n",
       "2                           esse nubank é bom mesmo? 🤔  Irrelevante\n",
       "3    @brunoln91 @nubank pow @nubank, verdinho e tud...  Irrelevante\n",
       "4    @kinnybouvier_ @1masterball vo ligar no nubank...  Irrelevante\n",
       "5    depois dessa vou deixar meu limite negativo no...  Irrelevante\n",
       "6        eu amo o nubank mesmo https://t.co/rrpb89yes9    Relevante\n",
       "7    meu pai pediu um cartão novo pra mim pra pegar...    Relevante\n",
       "8        quem inventou o nubank nem é gente, é um anjo    Relevante\n",
       "9    rt @bichabichabcha: @nubank @mabzinhaa antes m...  Irrelevante\n",
       "10   @rafaelmfierro rafa, ficamos mega felizes de v...  Irrelevante\n",
       "11   @castrocastrado @nubank se quiser eu te indico...    Relevante\n",
       "12   @1masterball @haunted_electra me assusta muito...    Relevante\n",
       "13   prejuízo nubank: banco tem 12 milhões de clien...    Relevante\n",
       "14   @vannyhudgensfak não fica assim! sabemos que a...  Irrelevante\n",
       "15   @marialmeida93 @thaioliv_ @nubank menina que t...    Relevante\n",
       "16   nubank aumenta meu limite que agora eu sou tra...  Irrelevante\n",
       "17   @meusolhos4 mandamos esses lembretes para que ...  Irrelevante\n",
       "18                queria saber se o nubank é bom mesmo  Irrelevante\n",
       "19   @nubank @itoncrf_ e assim mesmo n me aprovaram...    Relevante\n",
       "20   rt @quembindera: se tu é assalariado, não paga...  Irrelevante\n",
       "21        depois de anos tentando,fui aceita no nubank    Relevante\n",
       "22   rt @afropreticinha: aff coma assim o cartão da...    Relevante\n",
       "23   @brunosviana13 nossos clientes que são sensaci...  Irrelevante\n",
       "24   agr eu queria que a @nubank me aceitasse pra t...  Irrelevante\n",
       "25   fiquei assustada quando vi que minha fatura do...    Relevante\n",
       "26   nubank nunca me liberou crédito, agr q libera....    Relevante\n",
       "27             meu nubank chegou😍 vos declaro falência    Relevante\n",
       "28   @lucasafoliveira @nubank ele trava assim e não...    Relevante\n",
       "29                       @noshdalgo pqp vc tem nubank?  Irrelevante\n",
       "..                                                 ...          ...\n",
       "270  @plynchado @jcbrodt @nubank @bancointer é, bom...  Irrelevante\n",
       "271  @nubank hum.... entendi. então muito obrigado ...  Irrelevante\n",
       "272  eu mesmo kkkkkkkkkkkkk tô rindo mas chorando \\...  Irrelevante\n",
       "273  @seclerb e aí, já pensou como iremos comemorar...  Irrelevante\n",
       "274  next e nubank duas bombas, essas porras não li...    Relevante\n",
       "275  @dinhamariae @nubank já fui em mais de 3 lotér...  Irrelevante\n",
       "276  @nicolemeloa @1masterball e o cartão da nubank...  Irrelevante\n",
       "277  @luiz_hespanha @aluraonline @nubank quem tem @...  Irrelevante\n",
       "278                    @ronyptrsn banco inter e nubank  Irrelevante\n",
       "279  @lanaalmeidaofc @nubank nunca decepciona, o me...    Relevante\n",
       "280  @__chicao__ @nubank o meu a \"sorte\" é que foi ...    Relevante\n",
       "281  fui na johnny joy comprar um milkshake, entreg...  Irrelevante\n",
       "282  meu cartão da nubank chegou, bora torrar meu s...  Irrelevante\n",
       "283  eu perguntei de um amigo se ele queria que eu ...    Relevante\n",
       "284  @blruno estamos melhorando nossos modelos para...  Irrelevante\n",
       "285  @meusolhos4 pagamento via boleto podem levar a...  Irrelevante\n",
       "286  @luqueijoana @nubank moro não, tô no aterrado agr  Irrelevante\n",
       "287  não aguento mais o @nubank  me lembrando de pa...    Relevante\n",
       "288  rt @quembindera: se tu é assalariado, não paga...  Irrelevante\n",
       "289  aconteceu o mesmo comigo, compraram enxoval de...    Relevante\n",
       "290  @nubank corre aqui por favor, to perdida. o ch...    Relevante\n",
       "291  rt @nickthomasnocu: se tu é assalariado, não p...  Irrelevante\n",
       "292  @__chicao__ @gtcarvalh0 @nubank passei por iss...    Relevante\n",
       "293  deixe seu convite para o cartão nubank!\\n#nuba...  Irrelevante\n",
       "294  rt @quembindera: se tu é assalariado, não paga...  Irrelevante\n",
       "295  @marcjrsouza por aqui não conseguimos interfer...  Irrelevante\n",
       "296  to desde o dia 1º tentando pagar a porra da mi...    Relevante\n",
       "297  @maluulana @nubank eu devo ser a primeira da f...  Irrelevante\n",
       "298  @nubank @yasuqh kakakakakakkak pqp eu quero se...    Relevante\n",
       "299  @1masterball @renatojg nossa! clonaram um nuba...    Relevante\n",
       "\n",
       "[300 rows x 2 columns]"
      ]
     },
     "execution_count": 95,
     "metadata": {},
     "output_type": "execute_result"
    }
   ],
   "source": [
    "mensagens = pd.read_excel(\"Nubank.xlsx\")\n",
    "mensagens.Relevância = mensagens.Relevância.astype('category')\n",
    "mensagens.Relevância.cat.categories = ('Irrelevante', 'Relevante')\n",
    "\n",
    "print(\"A quantidade de cada cada um é: \\n\\n\", mensagens.Relevância.value_counts())\n",
    "\n",
    "relevante = mensagens[mensagens.Relevância==\"Relevante\"]\n",
    "irrelevante = mensagens[mensagens.Relevância==\"Irrelevante\"]\n",
    "\n",
    "total = len(relevante) + len(irrelevante)"
   ]
  },
  {
   "cell_type": "code",
   "execution_count": 80,
   "metadata": {},
   "outputs": [],
   "source": [
    "''' Função que troca pontuação por espaço '''\n",
    "def cleanup(text):\n",
    "    punctuation = '[!\\-.:?;/,|@\"\\'()]'\n",
    "    pattern = re.compile(punctuation)\n",
    "    # Abaixo, determina que se troca por espaço\n",
    "    text_subbed = re.sub(pattern, ' ', text)\n",
    "    \n",
    "    emoji_dividir = emoji.get_emoji_regexp().split(text_subbed)\n",
    "    espaco_dividir = [substr.split() for substr in emoji_dividir]\n",
    "    split = functools.reduce(operator.concat, espaco_dividir)\n",
    "    \n",
    "    return split\n",
    "\n",
    "# Usando a função apply para fazer a limpeza nas mensagens\n",
    "nubank_relev = relevante.Treinamento.apply(cleanup)\n",
    "nubank_irrelev = irrelevante.Treinamento.apply(cleanup)\n",
    "\n",
    "\n",
    "lista = []\n",
    "i = 0\n",
    "for linha in nubank_relev:\n",
    "    while i < len(linha):\n",
    "        lista.append(linha[i])\n",
    "        i += 1\n",
    "    i = 0\n",
    "    \n",
    "lista_nubank_relev = pd.DataFrame(lista) \n"
   ]
  },
  {
   "cell_type": "markdown",
   "metadata": {},
   "source": [
    "##### Frequência Absoluta"
   ]
  },
  {
   "cell_type": "code",
   "execution_count": 81,
   "metadata": {
    "scrolled": true
   },
   "outputs": [
    {
     "data": {
      "text/plain": [
       "nubank            122\n",
       "o                  58\n",
       "de                 54\n",
       "e                  52\n",
       "eu                 47\n",
       "que                45\n",
       "a                  35\n",
       "meu                34\n",
       "me                 29\n",
       "t                  28\n",
       "co                 28\n",
       "https              28\n",
       "um                 27\n",
       "não                26\n",
       "é                  25\n",
       "cartão             23\n",
       "do                 23\n",
       "no                 20\n",
       "uma                16\n",
       "na                 15\n",
       "q                  15\n",
       "pra                15\n",
       "to                 14\n",
       "com                14\n",
       "só                 13\n",
       "limite             12\n",
       "mais               12\n",
       "da                 11\n",
       "nunca              11\n",
       "tem                11\n",
       "                 ... \n",
       "chamar              1\n",
       "resolvi             1\n",
       "azgxuchgp3          1\n",
       "inventou            1\n",
       "carteiro            1\n",
       "awarenesswoman      1\n",
       "serem               1\n",
       "1h                  1\n",
       "motivo              1\n",
       "emergências         1\n",
       "daniele             1\n",
       "assi                1\n",
       "gj2uj2obpj          1\n",
       "boa                 1\n",
       "agressivas          1\n",
       "ht…                 1\n",
       "servem              1\n",
       "deixou              1\n",
       "abandonar           1\n",
       "surpreenderam       1\n",
       "viado               1\n",
       "ativar              1\n",
       "ganhei              1\n",
       "reservada           1\n",
       "valores             1\n",
       "minutos             1\n",
       "realizar            1\n",
       "continuar           1\n",
       "bancária            1\n",
       "chamada             1\n",
       "Name: 0, Length: 833, dtype: int64"
      ]
     },
     "execution_count": 81,
     "metadata": {},
     "output_type": "execute_result"
    }
   ],
   "source": [
    "lista_nubank_relev[0].value_counts()"
   ]
  },
  {
   "cell_type": "markdown",
   "metadata": {},
   "source": [
    "___\n",
    "### Montando o Classificador Naive-Bayes\n",
    "\n",
    "Considerando apenas as mensagens da planilha Treinamento, ensine  seu classificador."
   ]
  },
  {
   "cell_type": "code",
   "execution_count": 93,
   "metadata": {},
   "outputs": [
    {
     "data": {
      "text/plain": [
       "0.38666666666666666"
      ]
     },
     "execution_count": 93,
     "metadata": {},
     "output_type": "execute_result"
    }
   ],
   "source": [
    "lista_counts_relevante=(lista_nubank_relev[0].value_counts()).to_dict()\n",
    "dicionario_counts_relevancia = (mensagens.Relevância.value_counts()).to_dict()\n",
    "\n",
    "\n",
    "\n",
    "'''\n",
    "def probabilidade_do_naive(mensagens, lista_counts_relevante, dicionario_counts_relevancia, total):\n",
    "    mensagens_selecionados\n",
    "    verossimilhança =\n",
    "    \n",
    "    for rel, v in dicionario_counts_relevancia.items():\n",
    "        if rel == \"Relevante\"\n",
    "            total_rel = v\n",
    "    priori = total_rel/total\n",
    "    \n",
    "    \n",
    "    return verossimilhança*priori\n",
    "'''"
   ]
  },
  {
   "cell_type": "code",
   "execution_count": null,
   "metadata": {},
   "outputs": [],
   "source": []
  },
  {
   "cell_type": "code",
   "execution_count": null,
   "metadata": {},
   "outputs": [],
   "source": []
  },
  {
   "cell_type": "markdown",
   "metadata": {},
   "source": [
    "___\n",
    "### Verificando a performance\n",
    "\n",
    "Agora você deve testar o seu classificador com a base de Testes."
   ]
  },
  {
   "cell_type": "code",
   "execution_count": null,
   "metadata": {},
   "outputs": [],
   "source": []
  },
  {
   "cell_type": "code",
   "execution_count": null,
   "metadata": {},
   "outputs": [],
   "source": []
  },
  {
   "cell_type": "code",
   "execution_count": null,
   "metadata": {},
   "outputs": [],
   "source": []
  },
  {
   "cell_type": "markdown",
   "metadata": {},
   "source": [
    "___\n",
    "### Concluindo"
   ]
  },
  {
   "cell_type": "code",
   "execution_count": null,
   "metadata": {},
   "outputs": [],
   "source": []
  },
  {
   "cell_type": "code",
   "execution_count": null,
   "metadata": {},
   "outputs": [],
   "source": []
  },
  {
   "cell_type": "markdown",
   "metadata": {},
   "source": [
    "## Aperfeiçoamento:\n",
    "\n",
    "Os trabalhos vão evoluir em conceito dependendo da quantidade de itens avançados:\n",
    "\n",
    "* Limpar: \\n, :, \", ', (, ), etc SEM remover emojis\n",
    "* Corrigir separação de espaços entre palavras e emojis ou emojis e emojis\n",
    "* Propor outras limpezas e transformações que não afetem a qualidade da informação ou classificação\n",
    "* Criar categorias intermediárias de relevância baseadas na probabilidade: ex.: muito relevante, relevante, neutro, irrelevante, muito irrelevante (3 categorias: C, mais categorias conta para B)\n",
    "* Explicar por que não posso usar o próprio classificador para gerar mais amostras de treinamento\n",
    "* Propor diferentes cenários para Naïve Bayes fora do contexto do projeto\n",
    "* Sugerir e explicar melhorias reais com indicações concretas de como implementar (indicar como fazer e indicar material de pesquisa)\n",
    "* Montar um dashboard que periodicamente realiza análise de sentimento e visualiza estes dados"
   ]
  },
  {
   "cell_type": "markdown",
   "metadata": {},
   "source": [
    "# Referências"
   ]
  },
  {
   "cell_type": "markdown",
   "metadata": {},
   "source": [
    "[Naive Bayes and Text Classification](https://arxiv.org/pdf/1410.5329.pdf)  **Mais completo**\n",
    "\n",
    "[A practical explanation of a Naive Bayes Classifier](https://monkeylearn.com/blog/practical-explanation-naive-bayes-classifier/) **Mais simples**"
   ]
  },
  {
   "cell_type": "code",
   "execution_count": null,
   "metadata": {},
   "outputs": [],
   "source": []
  }
 ],
 "metadata": {
  "kernelspec": {
   "display_name": "Python 3",
   "language": "python",
   "name": "python3"
  },
  "language_info": {
   "codemirror_mode": {
    "name": "ipython",
    "version": 3
   },
   "file_extension": ".py",
   "mimetype": "text/x-python",
   "name": "python",
   "nbconvert_exporter": "python",
   "pygments_lexer": "ipython3",
   "version": "3.7.1"
  }
 },
 "nbformat": 4,
 "nbformat_minor": 4
}
